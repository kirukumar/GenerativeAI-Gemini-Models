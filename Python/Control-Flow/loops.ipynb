{
 "cells": [
  {
   "cell_type": "code",
   "execution_count": 1,
   "id": "b719705f",
   "metadata": {},
   "outputs": [
    {
     "name": "stdout",
     "output_type": "stream",
     "text": [
      "0\n",
      "1\n",
      "2\n",
      "3\n",
      "4\n"
     ]
    }
   ],
   "source": [
    " # for loop\n",
    "\n",
    " for i in range(5):\n",
    "     print(i)"
   ]
  },
  {
   "cell_type": "code",
   "execution_count": 2,
   "id": "820d0a40",
   "metadata": {},
   "outputs": [
    {
     "name": "stdout",
     "output_type": "stream",
     "text": [
      "3\n",
      "4\n",
      "5\n",
      "6\n",
      "7\n"
     ]
    }
   ],
   "source": [
    "## ranging with specific range.\n",
    "for i in range(3,8):\n",
    "    print(i)"
   ]
  },
  {
   "cell_type": "code",
   "execution_count": 3,
   "id": "bc85282c",
   "metadata": {},
   "outputs": [
    {
     "name": "stdout",
     "output_type": "stream",
     "text": [
      "The i is: 1\n",
      "The i is: 3\n",
      "The i is: 5\n",
      "The i is: 7\n",
      "The i is: 9\n"
     ]
    }
   ],
   "source": [
    "## with Step Size\n",
    "for i in range(1,10,2):\n",
    "    print(\"The i is:\", i)"
   ]
  },
  {
   "cell_type": "code",
   "execution_count": 5,
   "id": "afd7cc00",
   "metadata": {},
   "outputs": [
    {
     "name": "stdout",
     "output_type": "stream",
     "text": [
      "The i is: 10\n",
      "The i is: 9\n",
      "The i is: 8\n",
      "The i is: 7\n",
      "The i is: 6\n",
      "The i is: 5\n",
      "The i is: 4\n",
      "The i is: 3\n",
      "The i is: 2\n"
     ]
    }
   ],
   "source": [
    "## negative Step Size\n",
    "for i in range(10,1,-1):\n",
    "    print(\"The i is:\", i)"
   ]
  },
  {
   "cell_type": "code",
   "execution_count": 6,
   "id": "8a30850e",
   "metadata": {},
   "outputs": [
    {
     "name": "stdout",
     "output_type": "stream",
     "text": [
      "The i is: K\n",
      "The i is: i\n",
      "The i is: r\n",
      "The i is: a\n",
      "The i is: n\n",
      "The i is:  \n",
      "The i is: K\n",
      "The i is: u\n",
      "The i is: m\n",
      "The i is: a\n",
      "The i is: r\n"
     ]
    }
   ],
   "source": [
    "## With Strings\n",
    "str =\"Kiran Kumar\"\n",
    "for i in str:\n",
    "    print(\"The i is:\", i)"
   ]
  },
  {
   "cell_type": "code",
   "execution_count": 7,
   "id": "ad4ae965",
   "metadata": {},
   "outputs": [
    {
     "name": "stdout",
     "output_type": "stream",
     "text": [
      "The value of count is: 0\n",
      "The value of count is: 1\n",
      "The value of count is: 2\n",
      "The value of count is: 3\n",
      "The value of count is: 4\n",
      "The value of count is: 5\n"
     ]
    }
   ],
   "source": [
    "## While loop\n",
    "\n",
    "count = 0\n",
    "\n",
    "while count<=5:\n",
    "    print(\"The value of count is:\", count)\n",
    "    count+=1\n",
    "    "
   ]
  },
  {
   "cell_type": "code",
   "execution_count": 8,
   "id": "ca858c92",
   "metadata": {},
   "outputs": [
    {
     "name": "stdout",
     "output_type": "stream",
     "text": [
      "The i is: 0\n",
      "The i is: 1\n",
      "The i is: 2\n",
      "The i is: 3\n",
      "The i is: 4\n"
     ]
    }
   ],
   "source": [
    "# Loop Control Statements\n",
    "# break\n",
    "for i in range(10):\n",
    "    if i ==5:\n",
    "        break\n",
    "    print(\"The i is:\", i)"
   ]
  },
  {
   "cell_type": "code",
   "execution_count": 9,
   "id": "498cb8e4",
   "metadata": {},
   "outputs": [
    {
     "name": "stdout",
     "output_type": "stream",
     "text": [
      "The i is: 1\n",
      "The i is: 3\n",
      "The i is: 5\n",
      "The i is: 7\n",
      "The i is: 9\n"
     ]
    }
   ],
   "source": [
    "# Continue\n",
    "\n",
    "for i in range(10):\n",
    "    if i%2==0:\n",
    "        continue\n",
    "    print(\"The i is:\", i)"
   ]
  },
  {
   "cell_type": "code",
   "execution_count": 11,
   "id": "164b59ed",
   "metadata": {},
   "outputs": [
    {
     "name": "stdout",
     "output_type": "stream",
     "text": [
      "The i is: 0\n",
      "The i is: 1\n",
      "The i is: 2\n",
      "The i is: 3\n"
     ]
    }
   ],
   "source": [
    "# Pass\n",
    "\n",
    "for i in range(4):\n",
    "    if i ==2:\n",
    "        pass\n",
    "    print(\"The i is:\", i)"
   ]
  },
  {
   "cell_type": "code",
   "execution_count": 13,
   "id": "8718dc2d",
   "metadata": {},
   "outputs": [
    {
     "name": "stdout",
     "output_type": "stream",
     "text": [
      "the value if is:0 and value of j:0\n",
      "the value if is:0 and value of j:1\n",
      "the value if is:1 and value of j:0\n",
      "the value if is:1 and value of j:1\n",
      "the value if is:2 and value of j:0\n",
      "the value if is:2 and value of j:1\n"
     ]
    }
   ],
   "source": [
    "## Nested Loop \n",
    " ## formatted String\n",
    "for i in range(3):\n",
    "    for j in range(2):\n",
    "        print(f\"the value if is:{i} and value of j:{j}\")\n"
   ]
  },
  {
   "cell_type": "code",
   "execution_count": 18,
   "id": "e1d2f5a9",
   "metadata": {},
   "outputs": [
    {
     "name": "stdout",
     "output_type": "stream",
     "text": [
      "The sum of first 5 natural numbers is: 15\n",
      "The sum of first 5 natural numbers is: 15\n"
     ]
    }
   ],
   "source": [
    "## Calculate the sum of n natural numbers\n",
    "\n",
    "num = int(input(\"Enter the number:\"))\n",
    "\n",
    "## while loop\n",
    "i = 0\n",
    "sum = 0\n",
    "while i<=num:\n",
    "    sum=sum+i\n",
    "    i+=1\n",
    "\n",
    "print(f\"The sum of first {num} natural numbers is: {sum}\")\n",
    "\n",
    "\n",
    "## for loop\n",
    "\n",
    "sum=0\n",
    "for i in range(num+1):\n",
    "    sum=sum+i\n",
    "\n",
    "print(f\"The sum of first {num} natural numbers is: {sum}\")\n"
   ]
  },
  {
   "cell_type": "code",
   "execution_count": 21,
   "id": "009ccc28",
   "metadata": {},
   "outputs": [
    {
     "name": "stdout",
     "output_type": "stream",
     "text": [
      "2\n",
      "3\n",
      "5\n",
      "7\n",
      "11\n",
      "13\n",
      "17\n",
      "19\n",
      "23\n",
      "29\n",
      "31\n",
      "37\n",
      "41\n",
      "43\n",
      "47\n",
      "53\n",
      "59\n",
      "61\n",
      "67\n",
      "71\n",
      "73\n",
      "79\n",
      "83\n",
      "89\n",
      "97\n"
     ]
    }
   ],
   "source": [
    "## Display the Prime numbers between 1 and 100.\n",
    "\n",
    "for num in range(1,101):\n",
    "    if num>1:\n",
    "        for i in range(2,num):\n",
    "            if num%i==0:\n",
    "                break\n",
    "        else:\n",
    "            print(num)"
   ]
  }
 ],
 "metadata": {
  "kernelspec": {
   "display_name": "Python 3",
   "language": "python",
   "name": "python3"
  },
  "language_info": {
   "codemirror_mode": {
    "name": "ipython",
    "version": 3
   },
   "file_extension": ".py",
   "mimetype": "text/x-python",
   "name": "python",
   "nbconvert_exporter": "python",
   "pygments_lexer": "ipython3",
   "version": "3.12.0"
  }
 },
 "nbformat": 4,
 "nbformat_minor": 5
}
