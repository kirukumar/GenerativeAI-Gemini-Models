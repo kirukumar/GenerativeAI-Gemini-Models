{
 "cells": [
  {
   "cell_type": "code",
   "execution_count": 1,
   "id": "eb7a97fe",
   "metadata": {},
   "outputs": [
    {
     "name": "stdout",
     "output_type": "stream",
     "text": [
      "Empty Dictionary: {}\n",
      "The type of empty_dictionaries is: <class 'dict'>\n"
     ]
    }
   ],
   "source": [
    "empty_dictionaries = {}\n",
    "print(\"Empty Dictionary:\", empty_dictionaries)\n",
    "print(\"The type of empty_dictionaries is:\", type(empty_dictionaries))"
   ]
  },
  {
   "cell_type": "code",
   "execution_count": 2,
   "metadata": {},
   "outputs": [
    {
     "name": "stdout",
     "output_type": "stream",
     "text": [
      "Empty Dictionary using dict(): {}\n"
     ]
    }
   ],
   "source": [
    "empty_dict = dict()\n",
    "print(\"Empty Dictionary using dict():\", empty_dict)"
   ]
  },
  {
   "cell_type": "code",
   "execution_count": 6,
   "id": "f024a917",
   "metadata": {},
   "outputs": [
    {
     "name": "stdout",
     "output_type": "stream",
     "text": [
      "{'name': 'Kiran Kumar', 'age': 25, 'grade': 'A'}\n"
     ]
    }
   ],
   "source": [
    "student = {\"name\":\"Kiran Kumar\",\"age\":25,\"grade\": \"A\"}\n",
    "print(student)"
   ]
  },
  {
   "cell_type": "code",
   "execution_count": null,
   "id": "af81c323",
   "metadata": {},
   "outputs": [
    {
     "name": "stdout",
     "output_type": "stream",
     "text": [
      "Student Name: Kiran Kumar\n",
      "Student Age: 25\n",
      "Student Grade: A\n",
      "Student Name using get(): Kiran Kumar\n",
      "Student Age using get(): 25\n",
      "Student Grade using get(): A\n",
      "Student Grade using get(): None\n"
     ]
    }
   ],
   "source": [
    "## Accessing Elements\n",
    "print(\"Student Name:\", student[\"name\"])\n",
    "print(\"Student Age:\", student[\"age\"])\n",
    "print(\"Student Grade:\", student[\"grade\"])   \n",
    "\n",
    "## Accessing using Get Method\n",
    "print(\"Student Name using get():\", student.get(\"name\"))\n",
    "print(\"Student Age using get():\", student.get(\"age\"))\n",
    "print(\"Student Grade using get():\", student.get(\"grade\"))"
   ]
  },
  {
   "cell_type": "code",
   "execution_count": 11,
   "id": "655ac36d",
   "metadata": {},
   "outputs": [
    {
     "name": "stdout",
     "output_type": "stream",
     "text": [
      "Student Grade using get(): None\n",
      "Student Last Name using get(): Unknown\n"
     ]
    }
   ],
   "source": [
    "print(\"Student Grade using get():\", student.get(\"last_name\"))\n",
    "\n",
    "## Providing Default Values if not present.\n",
    "print(\"Student Last Name using get():\", student.get(\"last_name\", \"Unknown\"))\n"
   ]
  },
  {
   "cell_type": "code",
   "execution_count": 12,
   "id": "bfa1d849",
   "metadata": {},
   "outputs": [
    {
     "name": "stdout",
     "output_type": "stream",
     "text": [
      "Updated Student Dictionary: {'name': 'Kiran Kumar', 'age': 26, 'grade': 'A+'}\n"
     ]
    }
   ],
   "source": [
    "## Modifying Dictionary Elements.\n",
    "student[\"age\"] = 26\n",
    "student[\"grade\"] = \"A+\"\n",
    "print(\"Updated Student Dictionary:\", student)\n"
   ]
  },
  {
   "cell_type": "code",
   "execution_count": null,
   "id": "8b7b7f13",
   "metadata": {},
   "outputs": [
    {
     "name": "stdout",
     "output_type": "stream",
     "text": [
      "Student Dictionary after deletion: {'name': 'Kiran Kumar', 'grade': 'A+'}\n"
     ]
    }
   ],
   "source": [
    "## Deleting Key and Value Pair\n",
    "del student[\"age\"]\n",
    "print(\"Student Dictionary after deletion:\", student)\n"
   ]
  },
  {
   "cell_type": "code",
   "execution_count": 15,
   "id": "23c6da1e",
   "metadata": {},
   "outputs": [
    {
     "name": "stdout",
     "output_type": "stream",
     "text": [
      "dict_keys(['name', 'grade'])\n",
      "dict_values(['Kiran Kumar', 'A+'])\n",
      "dict_items([('name', 'Kiran Kumar'), ('grade', 'A+')])\n"
     ]
    }
   ],
   "source": [
    "## Dictionary Methods\n",
    "\n",
    "keys = student.keys()\n",
    "values = student.values()\n",
    "items = student.items()\n",
    "\n",
    "print(keys)\n",
    "print( values)\n",
    "print(items)"
   ]
  },
  {
   "cell_type": "code",
   "execution_count": null,
   "id": "3a40e129",
   "metadata": {},
   "outputs": [
    {
     "name": "stdout",
     "output_type": "stream",
     "text": [
      "Original Student Dictionary: {'name': 'Kiran Kumar', 'grade': 'A+'}\n",
      "Copied Student Dictionary: {'name': 'John Doe', 'grade': 'A+'}\n"
     ]
    }
   ],
   "source": [
    "## Shallow Copy\n",
    "students_copy = student.copy() ## if you are not using copy() then students_copy will refer to the same object as student and if you modify copy it will modfiy the original object.\n",
    "students_copy[\"name\"] = \"John Doe\"\n",
    "\n",
    "print(\"Original Student Dictionary:\", student)\n",
    "print(\"Copied Student Dictionary:\", students_copy)"
   ]
  },
  {
   "cell_type": "code",
   "execution_count": 21,
   "id": "17597370",
   "metadata": {},
   "outputs": [
    {
     "name": "stdout",
     "output_type": "stream",
     "text": [
      "Key: name, Value: Kiran Kumar\n",
      "Key: grade, Value: A+\n",
      "Value: Kiran Kumar\n",
      "Value: A+\n",
      "Key: name, Value: Kiran Kumar\n",
      "Key: grade, Value: A+\n"
     ]
    }
   ],
   "source": [
    "## iterating over Dictionary\n",
    "\n",
    "for key in student.keys():\n",
    "    print(f'Key: {key}, Value: {student[key]}')\n",
    "\n",
    "for value in student.values():\n",
    "    print(f'Value: {value}')\n",
    "\n",
    "for key,value in student.items():\n",
    "    print(f'Key: {key}, Value: {value}')\n"
   ]
  },
  {
   "cell_type": "code",
   "execution_count": 25,
   "id": "832b23f6",
   "metadata": {},
   "outputs": [
    {
     "name": "stdout",
     "output_type": "stream",
     "text": [
      "Student: student1, Key: name, Value: Alice\n",
      "Student: student1, Key: age, Value: 20\n",
      "Student: student1, Key: courses, Value: ['Math', 'Science']\n",
      "Student: student2, Key: name, Value: Bob\n",
      "Student: student2, Key: age, Value: 22\n",
      "Student: student2, Key: courses, Value: ['English', 'History']\n"
     ]
    }
   ],
   "source": [
    "## Nested Dictionaries\n",
    "students = {\n",
    "    \"student1\": {\n",
    "        \"name\": \"Alice\",\n",
    "        \"age\": 20,\n",
    "        \"courses\": [\"Math\", \"Science\"]\n",
    "    },\n",
    "    \"student2\": {\n",
    "        \"name\": \"Bob\",\n",
    "        \"age\": 22,\n",
    "        \"courses\": [\"English\", \"History\"]\n",
    "    }\n",
    "}\n",
    "\n",
    "for student,student_info in students.items():\n",
    "    for key,value in student_info.items():\n",
    "        print(f'Student: {student}, Key: {key}, Value: {value}')"
   ]
  },
  {
   "cell_type": "code",
   "execution_count": 23,
   "id": "20acff9f",
   "metadata": {},
   "outputs": [
    {
     "name": "stdout",
     "output_type": "stream",
     "text": [
      "Alice\n",
      "['English', 'History']\n"
     ]
    }
   ],
   "source": [
    "## Accessing Nested Dictionary.\n",
    "\n",
    "print(students[\"student1\"][\"name\"])\n",
    "print(students[\"student2\"][\"courses\"])"
   ]
  },
  {
   "cell_type": "code",
   "execution_count": 28,
   "id": "ee646c20",
   "metadata": {},
   "outputs": [
    {
     "name": "stdout",
     "output_type": "stream",
     "text": [
      "Square Comprehension: {0: 0, 1: 1, 2: 4, 3: 9, 4: 16, 5: 25, 6: 36, 7: 49, 8: 64, 9: 81}\n"
     ]
    }
   ],
   "source": [
    "## Dictionary Comprehension\n",
    "\n",
    "square_comprehension = {x:x**2 for x in range(10)}\n",
    "print(\"Square Comprehension:\", square_comprehension)"
   ]
  },
  {
   "cell_type": "code",
   "execution_count": 29,
   "id": "73befa23",
   "metadata": {},
   "outputs": [
    {
     "name": "stdout",
     "output_type": "stream",
     "text": [
      "Square Comprehension: {0: 0, 2: 4, 4: 16, 6: 36, 8: 64}\n"
     ]
    }
   ],
   "source": [
    "square_comprehension = {x:x**2 for x in range(10) if x%2==0}\n",
    "print(\"Square Comprehension:\", square_comprehension)"
   ]
  },
  {
   "cell_type": "code",
   "execution_count": 30,
   "id": "3d680b8f",
   "metadata": {},
   "outputs": [
    {
     "name": "stdout",
     "output_type": "stream",
     "text": [
      "Number Frequency: {1: 5, 2: 1, 3: 2, 4: 2, 5: 1, 7: 1, 8: 1}\n"
     ]
    }
   ],
   "source": [
    "## Practical Example\n",
    "numbers = [1, 2, 3, 4, 5,1,1,1,1,4,3,7,8]\n",
    "frequency = {num:numbers.count(num) for num in numbers}\n",
    "print(\"Number Frequency:\", frequency)"
   ]
  },
  {
   "cell_type": "code",
   "execution_count": 31,
   "id": "5816bfa0",
   "metadata": {},
   "outputs": [
    {
     "name": "stdout",
     "output_type": "stream",
     "text": [
      "Merged Dictionary: {'a': 1, 'b': 3, 'c': 4}\n"
     ]
    }
   ],
   "source": [
    "# Merge Two Dictinary into one\n",
    "dict1={'a': 1, 'b': 2}\n",
    "dict2={'b': 3, 'c': 4}\n",
    "mergd_dict={**dict1,**dict2}\n",
    "print(\"Merged Dictionary:\", mergd_dict)\n"
   ]
  },
  {
   "cell_type": "code",
   "execution_count": null,
   "id": "bef777aa",
   "metadata": {},
   "outputs": [],
   "source": []
  }
 ],
 "metadata": {
  "kernelspec": {
   "display_name": "Python 3",
   "language": "python",
   "name": "python3"
  },
  "language_info": {
   "codemirror_mode": {
    "name": "ipython",
    "version": 3
   },
   "file_extension": ".py",
   "mimetype": "text/x-python",
   "name": "python",
   "nbconvert_exporter": "python",
   "pygments_lexer": "ipython3",
   "version": "3.12.0"
  }
 },
 "nbformat": 4,
 "nbformat_minor": 5
}
