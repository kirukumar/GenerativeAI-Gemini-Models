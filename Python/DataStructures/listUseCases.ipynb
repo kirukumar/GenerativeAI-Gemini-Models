{
 "cells": [
  {
   "cell_type": "code",
   "execution_count": 3,
   "id": "29e1a1d8",
   "metadata": {},
   "outputs": [
    {
     "name": "stdout",
     "output_type": "stream",
     "text": [
      "Task 4 is in the list\n",
      "Remaining Tasks: ['Task 3', 'Task 4', 'Task 5']\n"
     ]
    }
   ],
   "source": [
    "to_do_tasks=['Task 1', 'Task 2', 'Task 3']\n",
    "\n",
    "## Adding more Tasks\n",
    "to_do_tasks.append('Task 4')\n",
    "to_do_tasks.append('Task 5')\n",
    "\n",
    "# Removing to_do_tasks\n",
    "to_do_tasks.remove('Task 1')\n",
    "to_do_tasks.remove('Task 2')\n",
    "\n",
    "if 'Task 4' in to_do_tasks:\n",
    "    print(\"Task 4 is in the list\")\n",
    "\n",
    "print(\"Remaining Tasks:\", to_do_tasks)\n"
   ]
  },
  {
   "cell_type": "code",
   "execution_count": 6,
   "id": "4b73b7d8",
   "metadata": {},
   "outputs": [
    {
     "name": "stdout",
     "output_type": "stream",
     "text": [
      "Highest Grade: 90\n",
      "Lowest Grade: 78\n",
      "Average Grade: 84.33\n"
     ]
    }
   ],
   "source": [
    "## Managing Students grade\n",
    "\n",
    "grades = [85, 90, 78]\n",
    "\n",
    "highest_grade = max(grades)\n",
    "lowest_grade = min(grades)  \n",
    "\n",
    "average_grade = sum(grades) / len(grades)\n",
    "\n",
    "print(\"Highest Grade:\", highest_grade)\n",
    "print(\"Lowest Grade:\", lowest_grade)\n",
    "print(f\"Average Grade: {average_grade:.2f}\")"
   ]
  },
  {
   "cell_type": "code",
   "execution_count": null,
   "id": "839d140b",
   "metadata": {},
   "outputs": [],
   "source": []
  },
  {
   "cell_type": "code",
   "execution_count": null,
   "id": "f2057736",
   "metadata": {},
   "outputs": [],
   "source": []
  },
  {
   "cell_type": "code",
   "execution_count": null,
   "id": "28e7791f",
   "metadata": {},
   "outputs": [],
   "source": []
  }
 ],
 "metadata": {
  "kernelspec": {
   "display_name": "Python 3",
   "language": "python",
   "name": "python3"
  },
  "language_info": {
   "codemirror_mode": {
    "name": "ipython",
    "version": 3
   },
   "file_extension": ".py",
   "mimetype": "text/x-python",
   "name": "python",
   "nbconvert_exporter": "python",
   "pygments_lexer": "ipython3",
   "version": "3.12.0"
  }
 },
 "nbformat": 4,
 "nbformat_minor": 5
}
