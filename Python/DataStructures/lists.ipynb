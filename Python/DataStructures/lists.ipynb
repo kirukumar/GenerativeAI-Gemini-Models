{
 "cells": [
  {
   "cell_type": "code",
   "execution_count": 2,
   "id": "f2b1c10a",
   "metadata": {},
   "outputs": [
    {
     "name": "stdout",
     "output_type": "stream",
     "text": [
      "<class 'list'>\n"
     ]
    }
   ],
   "source": [
    "list_array = []\n",
    "print(type(list_array))"
   ]
  },
  {
   "cell_type": "code",
   "execution_count": 1,
   "id": "5dd3ad95",
   "metadata": {},
   "outputs": [
    {
     "name": "stdout",
     "output_type": "stream",
     "text": [
      "['Krish', 'John', 'Alice', 1, 2]\n"
     ]
    }
   ],
   "source": [
    "names = ['Krish', 'John', 'Alice',1,2]\n",
    "print(names)"
   ]
  },
  {
   "cell_type": "code",
   "execution_count": null,
   "id": "fc2867d9",
   "metadata": {},
   "outputs": [
    {
     "name": "stdout",
     "output_type": "stream",
     "text": [
      "Krish\n",
      "John\n",
      "2\n",
      "['John', 'Alice', 1, 2]\n",
      "['John', 'Alice']\n",
      "[2]\n"
     ]
    }
   ],
   "source": [
    "## Accessing Elements\n",
    "\n",
    "## Indexing\n",
    "print(names[0])\n",
    "print(names[1])\n",
    "print(names[-1])\n",
    "\n",
    "print(names[1:])\n",
    "print(names[1:3])\n",
    "print(names[-1:])\n",
    "\n",
    "\n",
    "##"
   ]
  },
  {
   "cell_type": "code",
   "execution_count": null,
   "id": "cadc18f1",
   "metadata": {},
   "outputs": [
    {
     "name": "stdout",
     "output_type": "stream",
     "text": [
      "['Krish', 'Kiran', 'Alice', 1, 2]\n"
     ]
    }
   ],
   "source": [
    "## Modifying list Elements\n",
    "names[1]='Kiran'\n",
    "print(names)\n",
    "-"
   ]
  },
  {
   "cell_type": "code",
   "execution_count": 3,
   "id": "ff31b795",
   "metadata": {},
   "outputs": [
    {
     "name": "stdout",
     "output_type": "stream",
     "text": [
      "['Krish', 'John', 'Alice', 1, 2, 'Bob']\n",
      "['Test', 'Test', 'Krish', 'John', 'Alice', 1, 2, 'Bob']\n"
     ]
    }
   ],
   "source": [
    "## List Methods\n",
    "names = ['Krish', 'John', 'Alice',1,2]\n",
    "\n",
    "names.append('Bob')\n",
    "print(names)\n",
    "\n",
    "names.insert(0, 'Test')\n",
    "names.insert(0, 'Test')\n",
    "print(names)\n"
   ]
  },
  {
   "cell_type": "code",
   "execution_count": 9,
   "id": "01954f21",
   "metadata": {},
   "outputs": [
    {
     "name": "stdout",
     "output_type": "stream",
     "text": [
      "['Krish', 'John', 'Alice', 1, 2]\n",
      "2\n",
      "['Krish', 'John', 'Alice', 1]\n"
     ]
    }
   ],
   "source": [
    "## remove the element from the list\n",
    "# names.remove('Test')\n",
    "# print(names)\n",
    "\n",
    "## remove and return the last element from the list.\n",
    "names = ['Krish', 'John', 'Alice',1,2]\n",
    "print(names)\n",
    "\n",
    "name = names.pop()\n",
    "print(name)\n",
    "print(names)\n",
    "\n"
   ]
  },
  {
   "cell_type": "code",
   "execution_count": 10,
   "id": "96f9869d",
   "metadata": {},
   "outputs": [
    {
     "name": "stdout",
     "output_type": "stream",
     "text": [
      "1\n"
     ]
    }
   ],
   "source": [
    "## Getting index of the element.\n",
    "print(names.index('John'))\n"
   ]
  },
  {
   "cell_type": "code",
   "execution_count": 12,
   "id": "c6a661ce",
   "metadata": {},
   "outputs": [
    {
     "name": "stdout",
     "output_type": "stream",
     "text": [
      "2\n"
     ]
    }
   ],
   "source": [
    "## counting the occurence of the elements.\n",
    "names.append('John')\n",
    "print(names.count('John'))"
   ]
  },
  {
   "cell_type": "code",
   "execution_count": 5,
   "id": "a192c510",
   "metadata": {},
   "outputs": [
    {
     "name": "stdout",
     "output_type": "stream",
     "text": [
      "['Alice', 'John', 'Krish']\n",
      "['Krish', 'John', 'Alice']\n",
      "[]\n"
     ]
    }
   ],
   "source": [
    "## sorting in ascending Order\n",
    "\n",
    "sorting_names= names = ['Krish', 'John', 'Alice']\n",
    "names.sort()\n",
    "print(sorting_names)\n",
    "\n",
    "## Reversing\n",
    "\n",
    "names.reverse()\n",
    "print(names)\n",
    "\n",
    "# clearing all the elements\n",
    "names.clear()\n",
    "print(names)"
   ]
  },
  {
   "cell_type": "code",
   "execution_count": 8,
   "id": "fec9592b",
   "metadata": {},
   "outputs": [
    {
     "name": "stdout",
     "output_type": "stream",
     "text": [
      "[2, 3, 4]\n",
      "[2, 4]\n",
      "[5, 4, 3, 2, 1]\n"
     ]
    }
   ],
   "source": [
    "##Slicing Lists\n",
    "numbers = [1, 2, 3, 4, 5]\n",
    "print(numbers[1:4])\n",
    "print(numbers[1:4:2]) \n",
    "print(numbers[::-1]) # Step of 2"
   ]
  },
  {
   "cell_type": "code",
   "execution_count": 9,
   "id": "d4bfeb5e",
   "metadata": {},
   "outputs": [
    {
     "name": "stdout",
     "output_type": "stream",
     "text": [
      "apple\n",
      "banana\n",
      "cherry\n"
     ]
    }
   ],
   "source": [
    "## Iterating over the lists\n",
    "fruits = ['apple', 'banana', 'cherry']\n",
    "for fruit in fruits:\n",
    "    print(fruit)"
   ]
  },
  {
   "cell_type": "code",
   "execution_count": null,
   "id": "ca3bc3d1",
   "metadata": {},
   "outputs": [
    {
     "name": "stdout",
     "output_type": "stream",
     "text": [
      "Index: 0, Fruit: apple\n",
      "Index: 1, Fruit: banana\n",
      "Index: 2, Fruit: cherry\n"
     ]
    }
   ],
   "source": [
    "## Iterating using index\n",
    "# enumerte: inbuilt function which is used to give indexes of the elements in the list.\n",
    "\n",
    "for index,fruit in enumerate(fruits):\n",
    "    print(f\"Index: {index}, Fruit: {fruit}\")"
   ]
  },
  {
   "cell_type": "code",
   "execution_count": 15,
   "id": "f72542dd",
   "metadata": {},
   "outputs": [
    {
     "name": "stdout",
     "output_type": "stream",
     "text": [
      "[0, 1, 4, 9, 16, 25, 36, 49, 64, 81]\n",
      "[0, 1, 4, 9, 16, 25, 36, 49, 64, 81]\n",
      "[0, 4, 16, 36, 64]\n",
      "[0, 2, 4, 6, 8]\n",
      "[1, 3, 5, 7, 9]\n"
     ]
    }
   ],
   "source": [
    "# List Comprehension\n",
    "#  All the Operations can be performed inside the list itself.\n",
    "\n",
    "list=[]\n",
    "\n",
    "for i in range(10):\n",
    "    list.append(i**2)\n",
    "else:\n",
    "    print(list)\n",
    "\n",
    "\n",
    "## with list comprehension\n",
    "\n",
    "list_comprehension = [i**2 for i in range(10)]\n",
    "print(list_comprehension)\n",
    "\n",
    "## Get square of numbers only for even\n",
    "list_comprehension_even = [i**2 for i in range(10) if i % 2 == 0]\n",
    "print(list_comprehension_even)\n",
    "\n",
    "\n",
    "even_numbers = [num for num in range(10) if num % 2 == 0]\n",
    "print(even_numbers)\n",
    "\n",
    "odd_numbers = [num for num in range(10) if num % 2 != 0]\n",
    "print(odd_numbers)"
   ]
  },
  {
   "cell_type": "code",
   "execution_count": 16,
   "id": "35547ad9",
   "metadata": {},
   "outputs": [
    {
     "name": "stdout",
     "output_type": "stream",
     "text": [
      "[[1, 'a'], [1, 'b'], [1, 'c'], [1, 'd'], [2, 'a'], [2, 'b'], [2, 'c'], [2, 'd'], [3, 'a'], [3, 'b'], [3, 'c'], [3, 'd'], [4, 'a'], [4, 'b'], [4, 'c'], [4, 'd']]\n"
     ]
    }
   ],
   "source": [
    "## Nested List Comprehension\n",
    "\n",
    "list_one = [1,2,3,4]\n",
    "list_two=['a','b','c','d']\n",
    "list_comprehension=[[i,j] for i in list_one for j in list_two]\n",
    "print(list_comprehension)"
   ]
  },
  {
   "cell_type": "code",
   "execution_count": 17,
   "id": "4caefd18",
   "metadata": {},
   "outputs": [
    {
     "name": "stdout",
     "output_type": "stream",
     "text": [
      "[5, 5, 6]\n"
     ]
    }
   ],
   "source": [
    "# List Comprehension with function calls\n",
    "words = ['hello', 'world', 'python']\n",
    "words_length =  [len(word) for word in words]\n",
    "print(words_length)"
   ]
  },
  {
   "cell_type": "code",
   "execution_count": null,
   "id": "cf1e01ae",
   "metadata": {},
   "outputs": [],
   "source": []
  },
  {
   "cell_type": "code",
   "execution_count": null,
   "id": "b24d20c4",
   "metadata": {},
   "outputs": [],
   "source": []
  },
  {
   "cell_type": "code",
   "execution_count": null,
   "id": "0c48de4c",
   "metadata": {},
   "outputs": [],
   "source": []
  }
 ],
 "metadata": {
  "kernelspec": {
   "display_name": "Python 3",
   "language": "python",
   "name": "python3"
  },
  "language_info": {
   "codemirror_mode": {
    "name": "ipython",
    "version": 3
   },
   "file_extension": ".py",
   "mimetype": "text/x-python",
   "name": "python",
   "nbconvert_exporter": "python",
   "pygments_lexer": "ipython3",
   "version": "3.12.0"
  }
 },
 "nbformat": 4,
 "nbformat_minor": 5
}
