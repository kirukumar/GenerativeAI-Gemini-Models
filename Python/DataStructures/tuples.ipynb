{
 "cells": [
  {
   "cell_type": "code",
   "execution_count": 1,
   "id": "b9893354",
   "metadata": {},
   "outputs": [
    {
     "name": "stdout",
     "output_type": "stream",
     "text": [
      "Empty Tuple: ()\n",
      "Type of empty_tuple: <class 'tuple'>\n"
     ]
    }
   ],
   "source": [
    "empty_tuple = ()\n",
    "print(\"Empty Tuple:\", empty_tuple)\n",
    "print(\"Type of empty_tuple:\", type(empty_tuple))"
   ]
  },
  {
   "cell_type": "code",
   "execution_count": 2,
   "id": "84695d99",
   "metadata": {},
   "outputs": [
    {
     "name": "stdout",
     "output_type": "stream",
     "text": [
      "Empty Tuple: ()\n",
      "Empty List: []\n"
     ]
    }
   ],
   "source": [
    "empty_tuple = tuple()\n",
    "print(\"Empty Tuple:\", empty_tuple)\n",
    "\n",
    "empty_list = list()\n",
    "print(\"Empty List:\", empty_list)    "
   ]
  },
  {
   "cell_type": "code",
   "execution_count": 10,
   "id": "15871586",
   "metadata": {},
   "outputs": [
    {
     "name": "stdout",
     "output_type": "stream",
     "text": [
      "Converted Tuple: (1, 2, 3, 4)\n"
     ]
    }
   ],
   "source": [
    "# converting a tuple into list and vice versa\n",
    "\n",
    "list_array=[1,2,3,4]\n",
    "\n",
    "converted_tuple= tuple(list_array)\n",
    "print(\"Converted Tuple:\", converted_tuple)\n"
   ]
  },
  {
   "cell_type": "code",
   "execution_count": 11,
   "id": "55ab3c28",
   "metadata": {},
   "outputs": [
    {
     "name": "stdout",
     "output_type": "stream",
     "text": [
      "Mixed Tuple: (1, 'two', 3.0, [4])\n"
     ]
    }
   ],
   "source": [
    "mixed_tuple = (1, \"two\", 3.0, [4])\n",
    "print(\"Mixed Tuple:\", mixed_tuple)"
   ]
  },
  {
   "cell_type": "code",
   "execution_count": 14,
   "id": "97c578a3",
   "metadata": {},
   "outputs": [
    {
     "name": "stdout",
     "output_type": "stream",
     "text": [
      "First Element: 1\n",
      "Second Element: 2\n",
      "Third Element: 3\n",
      "Fourth Element: 2\n"
     ]
    }
   ],
   "source": [
    "## Accessing Tuple Elements\n",
    "numbers=(1,2,3,4)\n",
    "print(\"First Element:\", numbers[0])\n",
    "print(\"Second Element:\", numbers[1])\n",
    "print(\"Third Element:\", numbers[2])\n",
    "print(\"Fourth Element:\", numbers[-3])"
   ]
  },
  {
   "cell_type": "code",
   "execution_count": 17,
   "id": "1901aae2",
   "metadata": {},
   "outputs": [
    {
     "name": "stdout",
     "output_type": "stream",
     "text": [
      "(1, 2, 3, 4)\n",
      "(1, 'two', 3.0, [4])\n",
      "Concatenated Tuple: (1, 2, 3, 4, 1, 'two', 3.0, [4])\n",
      "Repeated Tuple: (1, 2, 3, 4, 1, 2, 3, 4, 1, 2, 3, 4)\n"
     ]
    }
   ],
   "source": [
    "## Tuple Operations With Arithmetic Operators\n",
    "print(numbers)\n",
    "print(mixed_tuple)\n",
    "\n",
    "concatenation = numbers + mixed_tuple\n",
    "print(\"Concatenated Tuple:\", concatenation)\n",
    "\n",
    "repeated = numbers * 3\n",
    "print(\"Repeated Tuple:\", repeated)\n"
   ]
  },
  {
   "cell_type": "code",
   "execution_count": 18,
   "id": "732d513a",
   "metadata": {},
   "outputs": [
    {
     "name": "stdout",
     "output_type": "stream",
     "text": [
      "Original Tuple: (1, 2, 3, 4)\n"
     ]
    },
    {
     "ename": "TypeError",
     "evalue": "'tuple' object does not support item assignment",
     "output_type": "error",
     "traceback": [
      "\u001b[31m---------------------------------------------------------------------------\u001b[39m",
      "\u001b[31mTypeError\u001b[39m                                 Traceback (most recent call last)",
      "\u001b[36mCell\u001b[39m\u001b[36m \u001b[39m\u001b[32mIn[18]\u001b[39m\u001b[32m, line 4\u001b[39m\n\u001b[32m      1\u001b[39m \u001b[38;5;66;03m## Immutable Nature of Tuple\u001b[39;00m\n\u001b[32m      3\u001b[39m \u001b[38;5;28mprint\u001b[39m(\u001b[33m\"\u001b[39m\u001b[33mOriginal Tuple:\u001b[39m\u001b[33m\"\u001b[39m, numbers)\n\u001b[32m----> \u001b[39m\u001b[32m4\u001b[39m \u001b[43mnumbers\u001b[49m\u001b[43m[\u001b[49m\u001b[32;43m0\u001b[39;49m\u001b[43m]\u001b[49m = \u001b[32m10\u001b[39m\n\u001b[32m      5\u001b[39m \u001b[38;5;28mprint\u001b[39m(\u001b[33m\"\u001b[39m\u001b[33mModified Tuple:\u001b[39m\u001b[33m\"\u001b[39m, numbers)\n",
      "\u001b[31mTypeError\u001b[39m: 'tuple' object does not support item assignment"
     ]
    }
   ],
   "source": [
    "## Immutable Nature of Tuple\n",
    "\n",
    "print(\"Original Tuple:\", numbers)\n",
    "numbers[0] = 10\n",
    "print(\"Modified Tuple:\", numbers)"
   ]
  },
  {
   "cell_type": "code",
   "execution_count": 20,
   "id": "02924a3e",
   "metadata": {},
   "outputs": [
    {
     "name": "stdout",
     "output_type": "stream",
     "text": [
      "(1, 2, 3, 4)\n",
      "1\n",
      "3\n"
     ]
    }
   ],
   "source": [
    "## Most common Method in Tuple.\n",
    "\n",
    "## count\n",
    "print(numbers)\n",
    "print(numbers.count(2))\n",
    "\n",
    "## index \n",
    "print(numbers.index(4))\n"
   ]
  },
  {
   "cell_type": "code",
   "execution_count": 22,
   "id": "e27bcefb",
   "metadata": {},
   "outputs": [
    {
     "name": "stdout",
     "output_type": "stream",
     "text": [
      "Packed Tuple: (1, 2, 'Hello')\n",
      "Unpacked Values: 1 2 Hello\n"
     ]
    }
   ],
   "source": [
    "## Packing and Unpacking\n",
    "# Packing\n",
    "\n",
    "packed_tuple = 1,2,'Hello'\n",
    "print(\"Packed Tuple:\", packed_tuple)\n",
    "\n",
    "# Unpacking\n",
    "a, b, c = packed_tuple\n",
    "print(\"Unpacked Values:\", a, b, c)\n"
   ]
  },
  {
   "cell_type": "code",
   "execution_count": 24,
   "id": "eaf76110",
   "metadata": {},
   "outputs": [
    {
     "name": "stdout",
     "output_type": "stream",
     "text": [
      "(1, 2, 3, 4)\n",
      "First: 1\n",
      "Middle: [2, 3]\n",
      "Last: 4\n"
     ]
    }
   ],
   "source": [
    "## Unpacking with *\n",
    "\n",
    "print(numbers)\n",
    "\n",
    "first, *middle, last = numbers\n",
    "print(\"First:\", first)\n",
    "print(\"Middle:\", middle)\n",
    "print(\"Last:\", last)\n"
   ]
  },
  {
   "cell_type": "code",
   "execution_count": 28,
   "id": "dcc224d7",
   "metadata": {},
   "outputs": [
    {
     "name": "stdout",
     "output_type": "stream",
     "text": [
      "Nested List: [[9, 5], [1, 2, 3, 4]]\n",
      "5\n",
      "[1, 2]\n",
      "Nested Tuple: ((1, 2), (3, 4))\n",
      "2\n",
      "(3, 4)\n"
     ]
    }
   ],
   "source": [
    "## Nested Tuple and Nested List\n",
    "\n",
    "list_array = [[9,5],[1, 2, 3, 4]]\n",
    "print(\"Nested List:\", list_array)\n",
    "\n",
    "print(list_array[0][1])\n",
    "print(list_array[1][0:2])\n",
    "\n",
    "\n",
    "nested_tuple = ((1, 2), (3, 4))\n",
    "print(\"Nested Tuple:\", nested_tuple)\n",
    "\n",
    "print(nested_tuple[0][1])\n",
    "print(nested_tuple[1][0:2])\n"
   ]
  },
  {
   "cell_type": "code",
   "execution_count": 35,
   "id": "d7d3e992",
   "metadata": {},
   "outputs": [
    {
     "name": "stdout",
     "output_type": "stream",
     "text": [
      "((1, 2), (3, 4))\n",
      "1 2 \n",
      "3 4 \n"
     ]
    }
   ],
   "source": [
    "## iterating over nested tuple\n",
    "print(nested_tuple)\n",
    "\n",
    "for sub_tuple in nested_tuple:\n",
    "    for item in sub_tuple:\n",
    "        print(item, end=' ')\n",
    "    print()\n",
    "\n",
    "\n"
   ]
  }
 ],
 "metadata": {
  "kernelspec": {
   "display_name": "Python 3",
   "language": "python",
   "name": "python3"
  },
  "language_info": {
   "codemirror_mode": {
    "name": "ipython",
    "version": 3
   },
   "file_extension": ".py",
   "mimetype": "text/x-python",
   "name": "python",
   "nbconvert_exporter": "python",
   "pygments_lexer": "ipython3",
   "version": "3.12.0"
  }
 },
 "nbformat": 4,
 "nbformat_minor": 5
}
