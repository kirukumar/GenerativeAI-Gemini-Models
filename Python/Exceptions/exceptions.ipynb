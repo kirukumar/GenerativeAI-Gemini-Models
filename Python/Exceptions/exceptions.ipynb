{
 "cells": [
  {
   "cell_type": "code",
   "execution_count": 6,
   "id": "d484a6dc",
   "metadata": {},
   "outputs": [
    {
     "ename": "NameError",
     "evalue": "name 'b' is not defined",
     "output_type": "error",
     "traceback": [
      "\u001b[31m---------------------------------------------------------------------------\u001b[39m",
      "\u001b[31mNameError\u001b[39m                                 Traceback (most recent call last)",
      "\u001b[36mCell\u001b[39m\u001b[36m \u001b[39m\u001b[32mIn[6]\u001b[39m\u001b[32m, line 1\u001b[39m\n\u001b[32m----> \u001b[39m\u001b[32m1\u001b[39m a=\u001b[43mb\u001b[49m\n\u001b[32m      2\u001b[39m \u001b[38;5;28mprint\u001b[39m(\u001b[33m\"\u001b[39m\u001b[33mThis line will always execute after the try-except block.\u001b[39m\u001b[33m\"\u001b[39m)\n\u001b[32m      3\u001b[39m \u001b[38;5;28mprint\u001b[39m(\u001b[33m\"\u001b[39m\u001b[33mTesting.\u001b[39m\u001b[33m\"\u001b[39m)\n",
      "\u001b[31mNameError\u001b[39m: name 'b' is not defined"
     ]
    }
   ],
   "source": [
    "a=b\n",
    "print(\"This line will always execute after the try-except block.\")\n",
    "print(\"Testing.\")"
   ]
  },
  {
   "cell_type": "code",
   "execution_count": 3,
   "id": "0ddbef5b",
   "metadata": {},
   "outputs": [
    {
     "name": "stdout",
     "output_type": "stream",
     "text": [
      "Exception Occurred\n"
     ]
    }
   ],
   "source": [
    "try:\n",
    "    a=b\n",
    "    print(\"Executing next Line\")\n",
    "except:\n",
    "    print(\"Exception Occurred\")"
   ]
  },
  {
   "cell_type": "code",
   "execution_count": 7,
   "id": "f2923435",
   "metadata": {},
   "outputs": [
    {
     "name": "stdout",
     "output_type": "stream",
     "text": [
      "Exception Occurred\n",
      "This line will always execute after the try-except block.\n"
     ]
    }
   ],
   "source": [
    "try:\n",
    "    a=b\n",
    "    print(\"Executing next Line\")\n",
    "except:\n",
    "    print(\"Exception Occurred\")\n",
    "print(\"This line will always execute after the try-except block.\")"
   ]
  },
  {
   "cell_type": "code",
   "execution_count": 10,
   "id": "ffd14168",
   "metadata": {},
   "outputs": [
    {
     "name": "stdout",
     "output_type": "stream",
     "text": [
      "name 'b' is not defined\n"
     ]
    }
   ],
   "source": [
    "## Catching Specific Exception\n",
    "try:\n",
    "    a=b\n",
    "except NameError as error:\n",
    "    print(error)"
   ]
  },
  {
   "cell_type": "code",
   "execution_count": 11,
   "id": "a6b9471a",
   "metadata": {},
   "outputs": [
    {
     "ename": "ZeroDivisionError",
     "evalue": "division by zero",
     "output_type": "error",
     "traceback": [
      "\u001b[31m---------------------------------------------------------------------------\u001b[39m",
      "\u001b[31mZeroDivisionError\u001b[39m                         Traceback (most recent call last)",
      "\u001b[36mCell\u001b[39m\u001b[36m \u001b[39m\u001b[32mIn[11]\u001b[39m\u001b[32m, line 1\u001b[39m\n\u001b[32m----> \u001b[39m\u001b[32m1\u001b[39m result = \u001b[32;43m1\u001b[39;49m\u001b[43m/\u001b[49m\u001b[32;43m0\u001b[39;49m\n",
      "\u001b[31mZeroDivisionError\u001b[39m: division by zero"
     ]
    }
   ],
   "source": [
    "result = 1/0"
   ]
  },
  {
   "cell_type": "code",
   "execution_count": 13,
   "id": "969f7243",
   "metadata": {},
   "outputs": [
    {
     "name": "stdout",
     "output_type": "stream",
     "text": [
      "division by zero\n",
      "Please Provide the denominator.\n",
      "This line will always execute after the try-except block.\n"
     ]
    }
   ],
   "source": [
    "try:\n",
    "    result = 1/0\n",
    "except ZeroDivisionError as e:\n",
    "    print(e)\n",
    "    print(\"Please Provide the denominator.\")\n",
    "\n",
    "print(\"This line will always execute after the try-except block.\")"
   ]
  },
  {
   "cell_type": "code",
   "execution_count": 14,
   "id": "e7dcd69a",
   "metadata": {},
   "outputs": [
    {
     "name": "stdout",
     "output_type": "stream",
     "text": [
      "An unexpected error occurred: name 'b' is not defined\n"
     ]
    }
   ],
   "source": [
    "try:\n",
    "    result = 1/1\n",
    "    a=b\n",
    "except ZeroDivisionError as e:\n",
    "    print(e)\n",
    "    print(\"Please Provide the denominator.\")\n",
    "except Exception as e:\n",
    "    print(\"An unexpected error occurred:\", e)"
   ]
  },
  {
   "cell_type": "code",
   "execution_count": 19,
   "id": "bb957830",
   "metadata": {},
   "outputs": [
    {
     "name": "stdout",
     "output_type": "stream",
     "text": [
      "division by zero\n",
      "Please Provide the denominator.\n",
      "Executing after the Execution\n"
     ]
    }
   ],
   "source": [
    "try:\n",
    "    num=int(input(\"Enter a number: \"))\n",
    "    result = 1/num\n",
    "except ZeroDivisionError as e:\n",
    "    print(e)\n",
    "    print(\"Please Provide the denominator.\")\n",
    "except ValueError as ve:\n",
    "    print(ve)\n",
    "    print(\"Please Provide a valid value.\")\n",
    "except Exception as e:\n",
    "    print(\"An unexpected error occurred:\", e)\n",
    "\n",
    "print(\"Executing after the Execution\")"
   ]
  },
  {
   "cell_type": "code",
   "execution_count": null,
   "id": "3f87cd14",
   "metadata": {},
   "outputs": [
    {
     "name": "stdout",
     "output_type": "stream",
     "text": [
      "division by zero\n",
      "Please Provide the denominator.\n",
      "Executing after the Execution\n"
     ]
    }
   ],
   "source": [
    "# try, except, else\n",
    "try:\n",
    "    num=int(input(\"Enter a number: \"))\n",
    "    result = 1/num\n",
    "except ZeroDivisionError as e:\n",
    "    print(e)\n",
    "    print(\"Please Provide the denominator.\")\n",
    "except ValueError as ve:\n",
    "    print(ve)\n",
    "    print(\"Please Provide a valid value.\")\n",
    "except Exception as e:\n",
    "    print(\"An unexpected error occurred:\", e)\n",
    "else:\n",
    "    print(f\"The result is: {result}\") #Prints only if the try is executed successfully without any errors.\n",
    "\n",
    "print(\"Executing after the Execution\")"
   ]
  },
  {
   "cell_type": "code",
   "execution_count": 1,
   "id": "152b6577",
   "metadata": {},
   "outputs": [
    {
     "name": "stdout",
     "output_type": "stream",
     "text": [
      "division by zero\n",
      "Please Provide the denominator.\n",
      "Execution completed.\n"
     ]
    }
   ],
   "source": [
    "# try, except, else, finally:\n",
    "\n",
    "# finally : Whether exception occurs or not, this block will always execute.\n",
    "try:\n",
    "    num=int(input(\"Enter a number: \"))\n",
    "    result = 1/num\n",
    "except ZeroDivisionError as e:\n",
    "    print(e)\n",
    "    print(\"Please Provide the denominator.\")\n",
    "except ValueError as ve:\n",
    "    print(ve)\n",
    "    print(\"Please Provide a valid value.\")\n",
    "except Exception as e:\n",
    "    print(\"An unexpected error occurred:\", e)\n",
    "else:\n",
    "    print(f\"The result is: {result}\") \n",
    "finally:\n",
    "    print(\"Execution completed.\")\n"
   ]
  },
  {
   "cell_type": "code",
   "execution_count": 26,
   "id": "18ce155f",
   "metadata": {},
   "outputs": [
    {
     "name": "stdout",
     "output_type": "stream",
     "text": [
      "Hello How are you!.\n",
      "Execution completed.\n"
     ]
    }
   ],
   "source": [
    "## Practical Examples\n",
    "\n",
    "try:\n",
    "    with open(\"sample.txt\", \"r\") as file:\n",
    "        content = file.read()\n",
    "        print(content)\n",
    "except FileNotFoundError as e:\n",
    "    print(\"File not found:\", e)\n",
    "except Exception as e:\n",
    "    print(\"An unexpected error occurred:\", e)\n",
    "finally:\n",
    "    if 'file' in locals() and not file.closed:\n",
    "        file.close()\n",
    "    print(\"Execution completed.\")\n"
   ]
  },
  {
   "cell_type": "code",
   "execution_count": null,
   "id": "96dc1542",
   "metadata": {},
   "outputs": [],
   "source": []
  },
  {
   "cell_type": "code",
   "execution_count": null,
   "id": "050f41a8",
   "metadata": {},
   "outputs": [],
   "source": []
  }
 ],
 "metadata": {
  "kernelspec": {
   "display_name": "Python 3",
   "language": "python",
   "name": "python3"
  },
  "language_info": {
   "codemirror_mode": {
    "name": "ipython",
    "version": 3
   },
   "file_extension": ".py",
   "mimetype": "text/x-python",
   "name": "python",
   "nbconvert_exporter": "python",
   "pygments_lexer": "ipython3",
   "version": "3.12.0"
  }
 },
 "nbformat": 4,
 "nbformat_minor": 5
}
