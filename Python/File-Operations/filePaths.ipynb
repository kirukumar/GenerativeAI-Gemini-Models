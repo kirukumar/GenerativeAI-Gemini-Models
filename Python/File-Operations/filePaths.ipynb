{
 "cells": [
  {
   "cell_type": "code",
   "execution_count": null,
   "id": "93096bd1",
   "metadata": {},
   "outputs": [
    {
     "name": "stdout",
     "output_type": "stream",
     "text": [
      "Directory 'None' created successfully.\n"
     ]
    }
   ],
   "source": [
    "import os\n",
    "\n",
    "new_Directory = os.makedirs('destination_folder')\n",
    "print(f\"Directory destination_folder created successfully.\")"
   ]
  },
  {
   "cell_type": "code",
   "execution_count": null,
   "id": "be0a9a5d",
   "metadata": {},
   "outputs": [
    {
     "data": {
      "text/plain": [
       "['destination.txt',\n",
       " 'destination_folder',\n",
       " 'example.bin',\n",
       " 'example.txt',\n",
       " 'filePaths.ipynb',\n",
       " 'files.ipynb']"
      ]
     },
     "execution_count": 3,
     "metadata": {},
     "output_type": "execute_result"
    }
   ],
   "source": [
    "#  Listing all the files and folders under a certain directory.\n",
    "\n",
    "os.listdir('.')\n",
    "\n"
   ]
  },
  {
   "cell_type": "code",
   "execution_count": 5,
   "id": "62958496",
   "metadata": {},
   "outputs": [
    {
     "name": "stdout",
     "output_type": "stream",
     "text": [
      "Full path to the file: c:\\DEV\\ImportantDocs\\GenerativeAI-Gemini-Models\\Python\\File-Operations\\destination_folder\\example.txt\n",
      "Relative path to the file: destination_folder\\example.txt\n"
     ]
    }
   ],
   "source": [
    "## Joining Paths\n",
    "\n",
    "full_path_absolute = os.path.join(os.getcwd(), 'destination_folder', 'example.txt') ## This will give you the absolute Path,\n",
    "full_path_relative = os.path.join('destination_folder', 'example.txt') ## This will give you the relative Path,\n",
    "print(f\"Full path to the file: {full_path_absolute}\")\n",
    "print(f\"Relative path to the file: {full_path_relative}\")"
   ]
  },
  {
   "cell_type": "code",
   "execution_count": 6,
   "id": "25345443",
   "metadata": {},
   "outputs": [
    {
     "name": "stdout",
     "output_type": "stream",
     "text": [
      "The file destination_folder/example.txt does not exist.\n"
     ]
    }
   ],
   "source": [
    "path = 'destination_folder/example.txt'\n",
    "if os.path.exists(path):\n",
    "    print(f\"The file {path} exists.\")\n",
    "else:\n",
    "    print(f\"The file {path} does not exist.\")"
   ]
  },
  {
   "cell_type": "code",
   "execution_count": 8,
   "id": "c0b07d67",
   "metadata": {},
   "outputs": [
    {
     "name": "stdout",
     "output_type": "stream",
     "text": [
      "Absolute path to the file: c:\\DEV\\ImportantDocs\\GenerativeAI-Gemini-Models\\Python\\File-Operations\\example.txt\n",
      "Full path to the file: c:\\DEV\\ImportantDocs\\GenerativeAI-Gemini-Models\\Python\\File-Operations\\example.txt\n"
     ]
    }
   ],
   "source": [
    "# To get the absolute path\n",
    "\n",
    "path = 'example.txt'\n",
    "\n",
    "absolute_path = os.path.abspath(path)\n",
    "print(f\"Absolute path to the file: {absolute_path}\")\n",
    "\n",
    "# Option 2\n",
    "full_path = os.path.join(os.getcwd(), path)\n",
    "print(f\"Full path to the file: {full_path}\")\n"
   ]
  },
  {
   "cell_type": "code",
   "execution_count": 13,
   "id": "dc7f8ec9",
   "metadata": {},
   "outputs": [
    {
     "name": "stdout",
     "output_type": "stream",
     "text": [
      "example.txt is a file.\n",
      "example.txt exists.\n"
     ]
    }
   ],
   "source": [
    "# checking if the path is a file or a directory\n",
    "\n",
    "path = 'example.txt'\n",
    "\n",
    "if os.path.isdir(path):\n",
    "    print(f\"{path} is a directory.\")\n",
    "else:\n",
    "    print(f\"{path} is a file.\")\n",
    "\n",
    "# Option2\n",
    "if os.path.exists(path):\n",
    "    print(f\"{path} exists.\")\n",
    "else:\n",
    "    print(f\"{path} does not exist.\")"
   ]
  },
  {
   "cell_type": "code",
   "execution_count": null,
   "id": "d380f785",
   "metadata": {},
   "outputs": [],
   "source": []
  }
 ],
 "metadata": {
  "kernelspec": {
   "display_name": "Python 3",
   "language": "python",
   "name": "python3"
  },
  "language_info": {
   "codemirror_mode": {
    "name": "ipython",
    "version": 3
   },
   "file_extension": ".py",
   "mimetype": "text/x-python",
   "name": "python",
   "nbconvert_exporter": "python",
   "pygments_lexer": "ipython3",
   "version": "3.12.0"
  }
 },
 "nbformat": 4,
 "nbformat_minor": 5
}
