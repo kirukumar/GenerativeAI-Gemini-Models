{
 "cells": [
  {
   "cell_type": "code",
   "execution_count": null,
   "id": "6938fb32",
   "metadata": {},
   "outputs": [
    {
     "name": "stdout",
     "output_type": "stream",
     "text": [
      "Hello How are you?\n",
      "I am Fine\n",
      "What about you?\n",
      "\n"
     ]
    }
   ],
   "source": [
    "## Getting all the contents from the file.\n",
    "\n",
    "with open('example.txt',mode='r') as file:\n",
    "    content = file.read()\n",
    "    print(content)"
   ]
  },
  {
   "cell_type": "code",
   "execution_count": 4,
   "id": "02d02ce6",
   "metadata": {},
   "outputs": [
    {
     "name": "stdout",
     "output_type": "stream",
     "text": [
      "Hello How are you?\n",
      "I am Fine\n",
      "What about you?\n"
     ]
    }
   ],
   "source": [
    "## Reading Line by Line from file.\n",
    "with open('example.txt','r') as file:\n",
    "    for line in file:\n",
    "        print(line.strip())"
   ]
  },
  {
   "cell_type": "code",
   "execution_count": 5,
   "id": "ad0e8c6d",
   "metadata": {},
   "outputs": [],
   "source": [
    "with open('example.txt', 'w') as file:\n",
    "    file.write(\"Hello, World!\")"
   ]
  },
  {
   "cell_type": "code",
   "execution_count": null,
   "id": "b2866e28",
   "metadata": {},
   "outputs": [],
   "source": [
    "# In Append Mode\n",
    "with open('example.txt', 'a') as file:\n",
    "    file.write('\\nThis is a new line added to the file.')\n",
    "    file.write('\\nThis is another new line added to the file.')"
   ]
  },
  {
   "cell_type": "code",
   "execution_count": 7,
   "id": "e173d880",
   "metadata": {},
   "outputs": [],
   "source": [
    "## Adding Multiples into the file\n",
    "lines = ['Line 1\\n', 'Line 2\\n', 'Line 3\\n']\n",
    "with open('example.txt', 'a') as file:\n",
    "    file.writelines(lines)"
   ]
  },
  {
   "cell_type": "code",
   "execution_count": 12,
   "id": "385705a7",
   "metadata": {},
   "outputs": [],
   "source": [
    "## Binary Files\n",
    "\n",
    "with open('example.bin', 'wb') as file:\n",
    "    file.write(b'Hello, World in binary!')\n"
   ]
  },
  {
   "cell_type": "code",
   "execution_count": 13,
   "id": "aca0fb5f",
   "metadata": {},
   "outputs": [
    {
     "name": "stdout",
     "output_type": "stream",
     "text": [
      "b'Hello, World in binary!'\n"
     ]
    }
   ],
   "source": [
    "with open('example.bin', 'rb') as file:\n",
    "    for line in file:\n",
    "        print(line)"
   ]
  },
  {
   "cell_type": "code",
   "execution_count": 15,
   "id": "2a88e014",
   "metadata": {},
   "outputs": [],
   "source": [
    "## Copying from a Source File to a Destination File\n",
    "\n",
    "with open('example.txt', 'r') as source_file:\n",
    "    content = source_file.read()\n",
    "\n",
    "with open('destination.txt', 'w') as destination_file:\n",
    "    destination_file.write(content)"
   ]
  },
  {
   "cell_type": "code",
   "execution_count": 19,
   "id": "4f8c1263",
   "metadata": {},
   "outputs": [
    {
     "name": "stdout",
     "output_type": "stream",
     "text": [
      "Hello, World!\n"
     ]
    }
   ],
   "source": [
    "## Reading and Writing in the same mode.\n",
    "\n",
    "with open('example.txt', 'w+') as file:\n",
    "    file.write('Hello, World!')\n",
    "    file.seek(0)\n",
    "    print(file.read())"
   ]
  }
 ],
 "metadata": {
  "kernelspec": {
   "display_name": "Python 3",
   "language": "python",
   "name": "python3"
  },
  "language_info": {
   "codemirror_mode": {
    "name": "ipython",
    "version": 3
   },
   "file_extension": ".py",
   "mimetype": "text/x-python",
   "name": "python",
   "nbconvert_exporter": "python",
   "pygments_lexer": "ipython3",
   "version": "3.12.0"
  }
 },
 "nbformat": 4,
 "nbformat_minor": 5
}
