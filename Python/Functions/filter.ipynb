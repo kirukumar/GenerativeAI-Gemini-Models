{
 "cells": [
  {
   "cell_type": "code",
   "execution_count": 1,
   "id": "3c00ee33",
   "metadata": {},
   "outputs": [
    {
     "name": "stdout",
     "output_type": "stream",
     "text": [
      "[2, 4, 6]\n"
     ]
    }
   ],
   "source": [
    "## Getting only even numbers\n",
    "\n",
    "numbers = [1, 2, 3, 4, 5, 6]\n",
    "even_numbers = list(filter(lambda num:num%2==0,numbers))\n",
    "print(even_numbers)"
   ]
  },
  {
   "cell_type": "code",
   "execution_count": 2,
   "id": "2bb861c1",
   "metadata": {},
   "outputs": [
    {
     "name": "stdout",
     "output_type": "stream",
     "text": [
      "[5, 6]\n"
     ]
    }
   ],
   "source": [
    "## Filter Greater than 5\n",
    "\n",
    "numbers = [1, 2, 3, 4, 5, 6]\n",
    "greater_than_five = list(filter(lambda x:x>=5,numbers))\n",
    "print(greater_than_five)"
   ]
  },
  {
   "cell_type": "code",
   "execution_count": 3,
   "id": "2ae8c552",
   "metadata": {},
   "outputs": [
    {
     "name": "stdout",
     "output_type": "stream",
     "text": [
      "[6]\n"
     ]
    }
   ],
   "source": [
    "## With Multiple Conditions\n",
    "numbers = [1, 2, 3, 4, 5, 6]\n",
    "filtered_numbers = list(filter(lambda num: num>5 and num%2==0,numbers))\n",
    "print(filtered_numbers)"
   ]
  },
  {
   "cell_type": "code",
   "execution_count": 4,
   "id": "ad3b3846",
   "metadata": {},
   "outputs": [
    {
     "name": "stdout",
     "output_type": "stream",
     "text": [
      "[{'id': 2, 'amount': 450}]\n"
     ]
    }
   ],
   "source": [
    "## filtering on Dictionaries\n",
    "\n",
    "orders = [\n",
    "    {\"id\": 1, \"amount\": 250},\n",
    "    {\"id\": 2, \"amount\": 450},\n",
    "    {\"id\": 3, \"amount\": 150}\n",
    "]\n",
    "\n",
    "filtered_orders = list(filter(lambda p:p['amount']>300,orders))\n",
    "print(filtered_orders)"
   ]
  }
 ],
 "metadata": {
  "kernelspec": {
   "display_name": "Python 3",
   "language": "python",
   "name": "python3"
  },
  "language_info": {
   "codemirror_mode": {
    "name": "ipython",
    "version": 3
   },
   "file_extension": ".py",
   "mimetype": "text/x-python",
   "name": "python",
   "nbconvert_exporter": "python",
   "pygments_lexer": "ipython3",
   "version": "3.12.0"
  }
 },
 "nbformat": 4,
 "nbformat_minor": 5
}
