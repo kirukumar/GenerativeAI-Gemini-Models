{
 "cells": [
  {
   "cell_type": "code",
   "execution_count": null,
   "id": "586b21a0",
   "metadata": {},
   "outputs": [],
   "source": [
    "## syntax\n",
    "def function_name(parameters):\n",
    "    ''' docstring '''\n",
    "    # function body\n",
    "    return expression\n"
   ]
  },
  {
   "cell_type": "code",
   "execution_count": 2,
   "id": "97b27529",
   "metadata": {},
   "outputs": [
    {
     "name": "stdout",
     "output_type": "stream",
     "text": [
      "Odd\n"
     ]
    }
   ],
   "source": [
    "def even_or_odd(number):\n",
    "    '''Checks if the number is even or odd'''\n",
    "    if number % 2 == 0:\n",
    "        return \"Even\"\n",
    "    else:\n",
    "        return \"Odd\"\n",
    "\n",
    "\n",
    "print(even_or_odd(11))  # Output: Even"
   ]
  },
  {
   "cell_type": "code",
   "execution_count": 3,
   "id": "2e97216c",
   "metadata": {},
   "outputs": [
    {
     "data": {
      "text/plain": [
       "15"
      ]
     },
     "execution_count": 3,
     "metadata": {},
     "output_type": "execute_result"
    }
   ],
   "source": [
    "## Function with Multiple Parameter\n",
    "def add_numbers(a, b):\n",
    "    return a + b\n",
    "\n",
    "\n",
    "add_numbers(5, 10)\n"
   ]
  },
  {
   "cell_type": "code",
   "execution_count": 6,
   "id": "69333113",
   "metadata": {},
   "outputs": [
    {
     "name": "stdout",
     "output_type": "stream",
     "text": [
      "Welcome User\n"
     ]
    },
    {
     "ename": "TypeError",
     "evalue": "greet() missing 1 required positional argument: 'name'",
     "output_type": "error",
     "traceback": [
      "\u001b[31m---------------------------------------------------------------------------\u001b[39m",
      "\u001b[31mTypeError\u001b[39m                                 Traceback (most recent call last)",
      "\u001b[36mCell\u001b[39m\u001b[36m \u001b[39m\u001b[32mIn[6]\u001b[39m\u001b[32m, line 8\u001b[39m\n\u001b[32m      4\u001b[39m     \u001b[38;5;28mprint\u001b[39m(\u001b[33mf\u001b[39m\u001b[33m'\u001b[39m\u001b[33mWelcome \u001b[39m\u001b[38;5;132;01m{\u001b[39;00mname\u001b[38;5;132;01m}\u001b[39;00m\u001b[33m'\u001b[39m)\n\u001b[32m      6\u001b[39m greet(\u001b[33m\"\u001b[39m\u001b[33mUser\u001b[39m\u001b[33m\"\u001b[39m)\n\u001b[32m----> \u001b[39m\u001b[32m8\u001b[39m \u001b[43mgreet\u001b[49m\u001b[43m(\u001b[49m\u001b[43m)\u001b[49m\n",
      "\u001b[31mTypeError\u001b[39m: greet() missing 1 required positional argument: 'name'"
     ]
    }
   ],
   "source": [
    "## Default parameters\n",
    "\n",
    "def greet(name):\n",
    "    print(f'Welcome {name}')\n",
    "\n",
    "greet(\"User\")\n",
    "\n",
    "greet()"
   ]
  },
  {
   "cell_type": "code",
   "execution_count": null,
   "id": "257e4824",
   "metadata": {},
   "outputs": [
    {
     "name": "stdout",
     "output_type": "stream",
     "text": [
      "Welcome User\n",
      "Welcome Guest\n"
     ]
    }
   ],
   "source": [
    "\n",
    "## Default parameters\n",
    "def greet(name=\"Guest\"):\n",
    "    print(f'Welcome {name}')\n",
    "\n",
    "greet(\"User\")\n",
    "\n",
    "greet()"
   ]
  },
  {
   "cell_type": "code",
   "execution_count": 9,
   "id": "ad702f82",
   "metadata": {},
   "outputs": [
    {
     "name": "stdout",
     "output_type": "stream",
     "text": [
      "1\n",
      "2\n",
      "3\n",
      "4\n",
      "5\n",
      "Kiran\n"
     ]
    }
   ],
   "source": [
    "## Positional Arguments\n",
    "\n",
    "def positional_arguments(*args):\n",
    "    for number in args:\n",
    "        print(number)\n",
    "\n",
    "positional_arguments(1, 2, 3, 4, 5,'Kiran')"
   ]
  },
  {
   "cell_type": "code",
   "execution_count": 10,
   "id": "5fc4480b",
   "metadata": {},
   "outputs": [
    {
     "name": "stdout",
     "output_type": "stream",
     "text": [
      "name: Alice\n",
      "age: 30\n",
      "city: New York\n"
     ]
    }
   ],
   "source": [
    "### Keyword Arguments \n",
    "def keyword_arguments(**kwargs):\n",
    "    for key, value in kwargs.items():\n",
    "      print(f\"{key}: {value}\")\n",
    "\n",
    "keyword_arguments(name=\"Alice\", age=30, city=\"New York\")"
   ]
  },
  {
   "cell_type": "code",
   "execution_count": 11,
   "id": "0c494f26",
   "metadata": {},
   "outputs": [
    {
     "name": "stdout",
     "output_type": "stream",
     "text": [
      "1\n",
      "2\n",
      "3\n",
      "4\n",
      "5\n",
      "Kiran\n",
      "name: Alice\n",
      "age: 30\n",
      "city: New York\n"
     ]
    }
   ],
   "source": [
    "## both positional and Keyword arguments\n",
    "\n",
    "def positional_keyword_arguments(*args,**kwargs):\n",
    "    for number in args:\n",
    "        print(number)\n",
    "\n",
    "\n",
    "    for key, value in kwargs.items():\n",
    "      print(f\"{key}: {value}\")\n",
    "\n",
    "\n",
    "positional_keyword_arguments(1, 2, 3, 4, 5, 'Kiran', name=\"Alice\", age=30, city=\"New York\")\n"
   ]
  },
  {
   "cell_type": "code",
   "execution_count": 12,
   "id": "016b0a15",
   "metadata": {},
   "outputs": [
    {
     "data": {
      "text/plain": [
       "(5, 50)"
      ]
     },
     "execution_count": 12,
     "metadata": {},
     "output_type": "execute_result"
    }
   ],
   "source": [
    "## returning Multiple Parameters\n",
    "\n",
    "def multiply(x,y):\n",
    "    return x,x*y\n",
    "\n",
    "multiply(5,10)"
   ]
  },
  {
   "cell_type": "code",
   "execution_count": 16,
   "id": "c7540f28",
   "metadata": {},
   "outputs": [
    {
     "name": "stdout",
     "output_type": "stream",
     "text": [
      "77.0\n",
      "25.0\n",
      "None\n"
     ]
    }
   ],
   "source": [
    "## More Examples\n",
    "\n",
    "# Temperature convertor\n",
    "def temperature_convertor(value,unit):\n",
    "    if unit == \"C\":\n",
    "        return (value * 9/5) + 32  ## Celsius to Fahrenheit\n",
    "    elif unit == \"F\":\n",
    "        return (value - 32) * 5/9  ## Fahrenheit to Celsius\n",
    "    else:\n",
    "        return None\n",
    "\n",
    "print(temperature_convertor(25, \"C\"))\n",
    "print(temperature_convertor(77, \"F\"))\n",
    "print(temperature_convertor(0, \"K\"))"
   ]
  },
  {
   "cell_type": "code",
   "execution_count": 24,
   "id": "da976305",
   "metadata": {},
   "outputs": [
    {
     "data": {
      "text/plain": [
       "'Password is valid'"
      ]
     },
     "execution_count": 24,
     "metadata": {},
     "output_type": "execute_result"
    }
   ],
   "source": [
    "## Password check Validator\n",
    "\n",
    "def password_checker(password):\n",
    "\n",
    "    if len(password) < 8:\n",
    "        return \"Password is too short\"\n",
    "    if not any(char.isdigit() for char in password):\n",
    "        return \"Password must contain a number\"\n",
    "    if not any(char.isupper() for char in password):\n",
    "        return \"Password must contain an uppercase letter\"\n",
    "    if not any(char.islower() for char in password):\n",
    "        return \"Password must contain a lowercase letter\"\n",
    "    return \"Password is valid\"\n",
    "\n",
    "password_checker(\"123456789Dd\")\n"
   ]
  },
  {
   "cell_type": "code",
   "execution_count": 17,
   "id": "3afe0e6d",
   "metadata": {},
   "outputs": [
    {
     "name": "stdout",
     "output_type": "stream",
     "text": [
      "Item: apple, Total: 2.0\n",
      "Item: banana, Total: 1.7999999999999998\n",
      "Item: orange, Total: 2.4000000000000004\n",
      "6.2\n"
     ]
    }
   ],
   "source": [
    "# Total Cost of items in a cart\n",
    "\n",
    "def calculate_total_costs(carts):\n",
    "\n",
    "    total = 0\n",
    "    for item in carts:\n",
    "        item_total = item[\"price\"] * item[\"quantity\"]\n",
    "        print(f\"Item: {item['item']}, Total: {item_total}\")\n",
    "        total += item_total\n",
    "\n",
    "    return total\n",
    "\n",
    "carts = [\n",
    "    {\"item\": \"apple\", \"price\": 0.5, \"quantity\": 4},\n",
    "    {\"item\": \"banana\", \"price\": 0.3, \"quantity\": 6},\n",
    "    {\"item\": \"orange\", \"price\": 0.8, \"quantity\": 3}\n",
    "]\n",
    "\n",
    "print(calculate_total_costs(carts))"
   ]
  },
  {
   "cell_type": "code",
   "execution_count": 18,
   "id": "7273d3f7",
   "metadata": {},
   "outputs": [
    {
     "name": "stdout",
     "output_type": "stream",
     "text": [
      "True\n",
      "False\n"
     ]
    }
   ],
   "source": [
    "## Check if a String is a Palindrome or not\n",
    "def is_palindrome(string):\n",
    "  string = string.lower().replace(\" \", \"\")  # Normalize the string\n",
    "  return string == string[::-1]\n",
    "\n",
    "\n",
    "print(is_palindrome(\"A man a plan a canal Panama\"))\n",
    "print(is_palindrome(\"Hello World\"))"
   ]
  },
  {
   "cell_type": "code",
   "execution_count": 19,
   "id": "b0a55098",
   "metadata": {},
   "outputs": [
    {
     "data": {
      "text/plain": [
       "120"
      ]
     },
     "execution_count": 19,
     "metadata": {},
     "output_type": "execute_result"
    }
   ],
   "source": [
    "# Calculate the factorial of a number using recurrssion\n",
    "\n",
    "def factorial(n):\n",
    "    if n==0:\n",
    "        return 1\n",
    "    else:\n",
    "        return n * factorial(n-1)\n",
    "\n",
    "factorial(5)\n"
   ]
  },
  {
   "cell_type": "code",
   "execution_count": 27,
   "id": "f12213d6",
   "metadata": {},
   "outputs": [
    {
     "data": {
      "text/plain": [
       "{'hi': 1,\n",
       " 'how': 1,\n",
       " 'are': 1,\n",
       " 'you': 1,\n",
       " 'my': 1,\n",
       " 'name': 1,\n",
       " 'is': 1,\n",
       " 'kiran': 1,\n",
       " 'kumar': 2}"
      ]
     },
     "execution_count": 27,
     "metadata": {},
     "output_type": "execute_result"
    }
   ],
   "source": [
    "## A function to read the file and count the frequency of each words in the file.\n",
    "def count_frequency(file_path):\n",
    "    frequency={}\n",
    "    with open(file_path,'r') as file:\n",
    "        for line in file:\n",
    "            words = line.split()\n",
    "            for word in words:\n",
    "                word = word.lower()\n",
    "                if word in frequency:\n",
    "                    frequency[word] += 1\n",
    "                else:\n",
    "                    frequency[word] = 1\n",
    "    return frequency\n",
    "\n",
    "count_frequency('sample.txt')\n"
   ]
  }
 ],
 "metadata": {
  "kernelspec": {
   "display_name": "Python 3",
   "language": "python",
   "name": "python3"
  },
  "language_info": {
   "codemirror_mode": {
    "name": "ipython",
    "version": 3
   },
   "file_extension": ".py",
   "mimetype": "text/x-python",
   "name": "python",
   "nbconvert_exporter": "python",
   "pygments_lexer": "ipython3",
   "version": "3.12.0"
  }
 },
 "nbformat": 4,
 "nbformat_minor": 5
}
