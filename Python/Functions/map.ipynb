{
 "cells": [
  {
   "cell_type": "code",
   "execution_count": 1,
   "id": "443d13f2",
   "metadata": {},
   "outputs": [
    {
     "data": {
      "text/plain": [
       "25"
      ]
     },
     "execution_count": 1,
     "metadata": {},
     "output_type": "execute_result"
    }
   ],
   "source": [
    "def square(x):\n",
    "    return x * x\n",
    "\n",
    "square(5)"
   ]
  },
  {
   "cell_type": "code",
   "execution_count": 2,
   "id": "6db501fc",
   "metadata": {},
   "outputs": [
    {
     "name": "stdout",
     "output_type": "stream",
     "text": [
      "[1, 4, 9, 16, 25]\n"
     ]
    }
   ],
   "source": [
    "numbers=[1,2,3,4,5]\n",
    "\n",
    "mapped_numbers = map(square, numbers)\n",
    "print(list(mapped_numbers))"
   ]
  },
  {
   "cell_type": "code",
   "execution_count": null,
   "metadata": {},
   "outputs": [
    {
     "name": "stdout",
     "output_type": "stream",
     "text": [
      "[1, 4, 9, 16, 25]\n"
     ]
    }
   ],
   "source": [
    "## using Lambda\n",
    "\n",
    "mapped_numbers = map(lambda x: x*x, numbers)\n",
    "print(list(mapped_numbers))"
   ]
  },
  {
   "cell_type": "code",
   "execution_count": 4,
   "id": "e652c77d",
   "metadata": {},
   "outputs": [
    {
     "name": "stdout",
     "output_type": "stream",
     "text": [
      "[17, 19, 21, 23, 25]\n"
     ]
    }
   ],
   "source": [
    "## Map Multiple iterables\n",
    "\n",
    "numbers2 = [6,7,8,9,10]\n",
    "numbers3 = [11,12,13,14,15]\n",
    "\n",
    "mapped_numbers = map(lambda  y, z: y + z,numbers2, numbers3)\n",
    "print(list(mapped_numbers))\n"
   ]
  },
  {
   "cell_type": "code",
   "execution_count": 5,
   "id": "af18e96f",
   "metadata": {},
   "outputs": [
    {
     "name": "stdout",
     "output_type": "stream",
     "text": [
      "[1, 2, 3, 4, 5]\n"
     ]
    }
   ],
   "source": [
    "# convert all the strings to integer\n",
    "string_array = [\"1\", \"2\", \"3\", \"4\", \"5\"]\n",
    "int_array = list(map(int, string_array))\n",
    "print(int_array)"
   ]
  },
  {
   "cell_type": "code",
   "execution_count": 6,
   "id": "2ffb00bb",
   "metadata": {},
   "outputs": [
    {
     "name": "stdout",
     "output_type": "stream",
     "text": [
      "['HELLO', 'WORLD', 'PYTHON', 'MAP']\n"
     ]
    }
   ],
   "source": [
    "## Applying String methods\n",
    "words = [\"hello\", \"world\", \"python\", \"map\"]\n",
    "\n",
    "upper_words = list(map(str.upper,words))\n",
    "print(upper_words)"
   ]
  },
  {
   "cell_type": "code",
   "execution_count": 30,
   "id": "c5baaa39",
   "metadata": {},
   "outputs": [
    {
     "name": "stdout",
     "output_type": "stream",
     "text": [
      "['Alice', 'Bob', 'Charlie']\n"
     ]
    }
   ],
   "source": [
    "## To dictionaries\n",
    "person = [\n",
    "    {\"name\": \"Alice\", \"age\": 30},\n",
    "    {\"name\": \"Bob\", \"age\": 25},\n",
    "    {\"name\": \"Charlie\", \"age\": 35}\n",
    "]\n",
    "\n",
    "\n",
    "mapped_list = list(map(lambda p : p['name'],person))\n",
    "print(mapped_list)\n"
   ]
  },
  {
   "cell_type": "code",
   "execution_count": null,
   "id": "a0ecb4a1",
   "metadata": {},
   "outputs": [],
   "source": []
  }
 ],
 "metadata": {
  "kernelspec": {
   "display_name": "Python 3",
   "language": "python",
   "name": "python3"
  },
  "language_info": {
   "codemirror_mode": {
    "name": "ipython",
    "version": 3
   },
   "file_extension": ".py",
   "mimetype": "text/x-python",
   "name": "python",
   "nbconvert_exporter": "python",
   "pygments_lexer": "ipython3",
   "version": "3.12.0"
  }
 },
 "nbformat": 4,
 "nbformat_minor": 5
}
