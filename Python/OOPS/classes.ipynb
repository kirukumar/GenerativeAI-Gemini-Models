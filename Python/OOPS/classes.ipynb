{
 "cells": [
  {
   "cell_type": "code",
   "execution_count": 2,
   "id": "58ac4a2f",
   "metadata": {},
   "outputs": [
    {
     "name": "stdout",
     "output_type": "stream",
     "text": [
      "<class '__main__.Car'>\n",
      "<class '__main__.Car'>\n",
      "<__main__.Car object at 0x0000024D25BE6D50>\n"
     ]
    }
   ],
   "source": [
    "# Empty Class\n",
    "\n",
    "class Car:\n",
    "    pass\n",
    "\n",
    "audi=Car()\n",
    "bmw=Car()\n",
    "\n",
    "print(type(audi))\n",
    "print(type(bmw))\n",
    "\n",
    "print(audi)"
   ]
  },
  {
   "cell_type": "code",
   "execution_count": 5,
   "id": "44cb64e9",
   "metadata": {},
   "outputs": [
    {
     "data": {
      "text/plain": [
       "['__class__',\n",
       " '__delattr__',\n",
       " '__dict__',\n",
       " '__dir__',\n",
       " '__doc__',\n",
       " '__eq__',\n",
       " '__format__',\n",
       " '__ge__',\n",
       " '__getattribute__',\n",
       " '__getstate__',\n",
       " '__gt__',\n",
       " '__hash__',\n",
       " '__init__',\n",
       " '__init_subclass__',\n",
       " '__le__',\n",
       " '__lt__',\n",
       " '__module__',\n",
       " '__ne__',\n",
       " '__new__',\n",
       " '__reduce__',\n",
       " '__reduce_ex__',\n",
       " '__repr__',\n",
       " '__setattr__',\n",
       " '__sizeof__',\n",
       " '__str__',\n",
       " '__subclasshook__',\n",
       " '__weakref__',\n",
       " 'door']"
      ]
     },
     "execution_count": 5,
     "metadata": {},
     "output_type": "execute_result"
    }
   ],
   "source": [
    "## Instance Variable and Methods\n",
    "\n",
    "audi.door = 4\n",
    "dir(audi)\n",
    "\n",
    "# class Dog:\n",
    "\n"
   ]
  },
  {
   "cell_type": "code",
   "execution_count": 12,
   "id": "b1953551",
   "metadata": {},
   "outputs": [
    {
     "name": "stdout",
     "output_type": "stream",
     "text": [
      "<__main__.Dog object at 0x0000024D25DA9040>\n",
      "Buddy\n",
      "5\n",
      "<__main__.Dog object at 0x0000024D25DA9430>\n",
      "Max\n",
      "3\n"
     ]
    }
   ],
   "source": [
    "class Dog:\n",
    "    ## Constructor\n",
    "    def __init__(self,name,age):  #Self is used to access the instance veriable inside the class itself.\n",
    "        self.name=name\n",
    "        self.age=age\n",
    "\n",
    "dog1=Dog(\"Buddy\", 5)\n",
    "print(dog1)\n",
    "print(dog1.name)\n",
    "print(dog1.age)\n",
    "\n",
    "dog2=Dog(\"Max\", 3)\n",
    "print(dog2)\n",
    "print(dog2.name)\n",
    "print(dog2.age)"
   ]
  },
  {
   "cell_type": "code",
   "execution_count": 15,
   "id": "f915496c",
   "metadata": {},
   "outputs": [
    {
     "name": "stdout",
     "output_type": "stream",
     "text": [
      "Buddy says Woof!\n",
      "Max says Woof!\n"
     ]
    }
   ],
   "source": [
    "## instance Methods\n",
    "\n",
    "class Dog:\n",
    "    ## Constructor\n",
    "    def __init__(self,name,age):  #Self is used to access the instance veriable inside the class itself.\n",
    "        self.name=name\n",
    "        self.age=age\n",
    "\n",
    "    ## Instance Method\n",
    "    def bark(self):\n",
    "        return f\"{self.name} says Woof!\"\n",
    "\n",
    "dog1=Dog(\"Buddy\", 5)\n",
    "print(dog1.bark())\n",
    "\n",
    "dog2=Dog(\"Max\", 3)\n",
    "print(dog2.bark())\n"
   ]
  },
  {
   "cell_type": "code",
   "execution_count": 16,
   "id": "3915ab7f",
   "metadata": {},
   "outputs": [
    {
     "data": {
      "text/plain": [
       "['__class__',\n",
       " '__delattr__',\n",
       " '__dict__',\n",
       " '__dir__',\n",
       " '__doc__',\n",
       " '__eq__',\n",
       " '__format__',\n",
       " '__ge__',\n",
       " '__getattribute__',\n",
       " '__getstate__',\n",
       " '__gt__',\n",
       " '__hash__',\n",
       " '__init__',\n",
       " '__init_subclass__',\n",
       " '__le__',\n",
       " '__lt__',\n",
       " '__module__',\n",
       " '__ne__',\n",
       " '__new__',\n",
       " '__reduce__',\n",
       " '__reduce_ex__',\n",
       " '__repr__',\n",
       " '__setattr__',\n",
       " '__sizeof__',\n",
       " '__str__',\n",
       " '__subclasshook__',\n",
       " '__weakref__',\n",
       " 'bark']"
      ]
     },
     "execution_count": 16,
     "metadata": {},
     "output_type": "execute_result"
    }
   ],
   "source": [
    "### Modelling a Bank Account\n",
    "dir(Dog)"
   ]
  },
  {
   "cell_type": "code",
   "execution_count": null,
   "id": "4616f9fd",
   "metadata": {},
   "outputs": [
    {
     "name": "stdout",
     "output_type": "stream",
     "text": [
      "Deposited 500. New balance is 1500.\n",
      "Withdrew 200. New balance is 1300.\n",
      "Available balance is 1300.\n",
      "Insufficient funds for this withdrawal.\n",
      "john@example.com\n",
      "1300\n"
     ]
    }
   ],
   "source": [
    "class BankAccount:\n",
    "\n",
    "    def __init__(self,owner,mail,balance=0):\n",
    "        self.owner=owner\n",
    "        self.email=mail\n",
    "        self.balance=balance\n",
    "\n",
    "    def deposit_amount(self,amount):\n",
    "        self.balance += amount\n",
    "        print(f\"Deposited {amount}. New balance is {self.balance}.\")\n",
    "    \n",
    "    def withdraw_amount(self,amount):\n",
    "        if amount>self.balance:\n",
    "            print(\"Insufficient funds for this withdrawal.\")\n",
    "            return\n",
    "        \n",
    "        self.balance-=amount\n",
    "        print(f\"Withdrew {amount}. New balance is {self.balance}.\")\n",
    "\n",
    "    def available_balance(self):\n",
    "        print(f\"Available balance is {self.balance}.\")\n",
    "\n",
    "account_one=BankAccount(\"John Doe\",\"john@example.com\",1000)\n",
    "account_one.deposit_amount(500)\n",
    "account_one.withdraw_amount(200)\n",
    "account_one.available_balance()\n",
    "account_one.withdraw_amount(20000)\n",
    "print(account_one.email)\n",
    "print(account_one.balance)"
   ]
  },
  {
   "cell_type": "code",
   "execution_count": null,
   "id": "c21d7d28",
   "metadata": {},
   "outputs": [],
   "source": []
  },
  {
   "cell_type": "code",
   "execution_count": null,
   "id": "9903d60c",
   "metadata": {},
   "outputs": [],
   "source": []
  },
  {
   "cell_type": "code",
   "execution_count": null,
   "id": "0967d8c4",
   "metadata": {},
   "outputs": [],
   "source": []
  },
  {
   "cell_type": "code",
   "execution_count": null,
   "id": "4f046302",
   "metadata": {},
   "outputs": [],
   "source": []
  },
  {
   "cell_type": "code",
   "execution_count": null,
   "id": "6b450948",
   "metadata": {},
   "outputs": [],
   "source": []
  },
  {
   "cell_type": "code",
   "execution_count": null,
   "id": "3a9aa8e3",
   "metadata": {},
   "outputs": [],
   "source": []
  }
 ],
 "metadata": {
  "kernelspec": {
   "display_name": "Python 3",
   "language": "python",
   "name": "python3"
  },
  "language_info": {
   "codemirror_mode": {
    "name": "ipython",
    "version": 3
   },
   "file_extension": ".py",
   "mimetype": "text/x-python",
   "name": "python",
   "nbconvert_exporter": "python",
   "pygments_lexer": "ipython3",
   "version": "3.12.0"
  }
 },
 "nbformat": 4,
 "nbformat_minor": 5
}
