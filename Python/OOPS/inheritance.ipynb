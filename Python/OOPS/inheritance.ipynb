{
 "cells": [
  {
   "cell_type": "code",
   "execution_count": null,
   "id": "3160f040",
   "metadata": {},
   "outputs": [],
   "source": [
    "## Single Inheritance\n",
    "\n",
    "class Car:\n",
    "\n",
    "    def __init__(self,windows,doors,engineType):\n",
    "        self.windows=windows\n",
    "        self.doors=doors\n",
    "        self.engineType=engineType\n",
    "\n",
    "    def start(self):\n",
    "        print(f\"Starting the car with {self.windows} windows, {self.doors} doors and {self.engineType} engine.\")"
   ]
  },
  {
   "cell_type": "code",
   "execution_count": 5,
   "id": "f7cecd04",
   "metadata": {},
   "outputs": [],
   "source": [
    "class Benz(Car):\n",
    "    def __init__(self,windows,doors,engineType,model):\n",
    "        super().__init__(windows,doors,engineType)\n",
    "        self.model=model\n",
    "\n",
    "    def display_info(self):\n",
    "        print(f\"Benz Model: {self.model}\")\n"
   ]
  },
  {
   "cell_type": "code",
   "execution_count": 8,
   "id": "d9fca5fe",
   "metadata": {},
   "outputs": [
    {
     "name": "stdout",
     "output_type": "stream",
     "text": [
      "Starting the car with 4 windows, 4 doors and Petrol engine.\n",
      "Benz Model: C-Class\n"
     ]
    }
   ],
   "source": [
    "benz_one=Benz(4,4,\"Petrol\",\"C-Class\")\n",
    "benz_one.start()\n",
    "benz_one.display_info()"
   ]
  },
  {
   "cell_type": "code",
   "execution_count": 9,
   "id": "2533e0f6",
   "metadata": {},
   "outputs": [],
   "source": [
    "## Multiple Inheritance\n",
    "\n",
    "# When a class inherits more than one base class\n",
    "\n",
    "class Animal:\n",
    "    def __init__(self,name):\n",
    "        self.name = name\n",
    "\n",
    "    def speak(self):\n",
    "        print(\"Sub classes will inherit it\")\n",
    "\n",
    "\n",
    "class Pet:\n",
    "    def __init__(self,owner):\n",
    "        self.owner = owner\n",
    "\n",
    "\n",
    "class Derived(Animal,Pet):\n",
    "    def __init__(self,name,owner):\n",
    "        Animal.__init__(self,name)\n",
    "        Pet.__init__(self,owner)\n",
    "\n",
    "    def speak(self):\n",
    "        print(f\"{self.name} says hello to {self.owner}\") "
   ]
  },
  {
   "cell_type": "code",
   "execution_count": 12,
   "id": "80d8e652",
   "metadata": {},
   "outputs": [
    {
     "name": "stdout",
     "output_type": "stream",
     "text": [
      "Buddy says hello to Alice\n",
      "Buddy\n",
      "Alice\n"
     ]
    }
   ],
   "source": [
    "dog = Derived(\"Buddy\", \"Alice\")\n",
    "dog.speak()\n",
    "print(dog.name)\n",
    "print(dog.owner)\n"
   ]
  },
  {
   "cell_type": "code",
   "execution_count": null,
   "id": "7be01322",
   "metadata": {},
   "outputs": [],
   "source": []
  },
  {
   "cell_type": "code",
   "execution_count": null,
   "id": "5f975167",
   "metadata": {},
   "outputs": [],
   "source": []
  },
  {
   "cell_type": "code",
   "execution_count": null,
   "id": "bc03e545",
   "metadata": {},
   "outputs": [],
   "source": []
  }
 ],
 "metadata": {
  "kernelspec": {
   "display_name": "Python 3",
   "language": "python",
   "name": "python3"
  },
  "language_info": {
   "codemirror_mode": {
    "name": "ipython",
    "version": 3
   },
   "file_extension": ".py",
   "mimetype": "text/x-python",
   "name": "python",
   "nbconvert_exporter": "python",
   "pygments_lexer": "ipython3",
   "version": "3.12.0"
  }
 },
 "nbformat": 4,
 "nbformat_minor": 5
}
