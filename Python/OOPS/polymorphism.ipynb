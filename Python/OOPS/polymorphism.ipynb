{
 "cells": [
  {
   "cell_type": "code",
   "execution_count": null,
   "id": "982b2c27",
   "metadata": {},
   "outputs": [
    {
     "name": "stdout",
     "output_type": "stream",
     "text": [
      "Dog barks\n",
      "Dog barks\n"
     ]
    }
   ],
   "source": [
    "## Method Overriding\n",
    "\n",
    "class Animal:\n",
    "\n",
    "    def speak(self):\n",
    "        print(\"Animal speaks\")\n",
    "\n",
    "class Dog(Animal):\n",
    "\n",
    "    def speak(self):\n",
    "        print(\"Dog barks\")  \n",
    "\n",
    "\n",
    "dog=Dog()\n",
    "dog.speak()\n",
    "\n",
    "\n",
    "\n",
    "def animal_speak(animal):\n",
    "    animal.speak()\n",
    "\n",
    "animal_speak(dog)"
   ]
  },
  {
   "cell_type": "code",
   "execution_count": 6,
   "id": "41c0f9e4",
   "metadata": {},
   "outputs": [
    {
     "name": "stdout",
     "output_type": "stream",
     "text": [
      "Area: 78.5\n",
      "Area: 20\n"
     ]
    }
   ],
   "source": [
    "class Shape:\n",
    "\n",
    "    def area(self):\n",
    "        return \"Area of the figure\"\n",
    "    \n",
    "class Circle(Shape):\n",
    "    def __init__(self,radius):\n",
    "        self.radius = radius\n",
    "\n",
    "    def area(self):\n",
    "        return 3.14 * self.radius * self.radius\n",
    "    \n",
    "class Rectangle(Shape):\n",
    "    def __init__(self,length,breadth):\n",
    "        self.length = length\n",
    "        self.breadth = breadth\n",
    "\n",
    "    def area(self):\n",
    "        return self.length * self.breadth\n",
    "\n",
    "\n",
    "def area_computation(shape):\n",
    "    print(f\"Area: {shape.area()}\")\n",
    "\n",
    "circle=Circle(5)\n",
    "rectangle=Rectangle(4,5)\n",
    "\n",
    "area_computation(circle)\n",
    "area_computation(rectangle)\n"
   ]
  },
  {
   "cell_type": "code",
   "execution_count": 9,
   "id": "504a4c8e",
   "metadata": {},
   "outputs": [
    {
     "name": "stdout",
     "output_type": "stream",
     "text": [
      "Bike started\n"
     ]
    }
   ],
   "source": [
    "# interface(Abstract Base Class)(ABC)\n",
    "from abc import ABC, abstractmethod\n",
    "\n",
    "class Vehicle(ABC):\n",
    "\n",
    "    @abstractmethod\n",
    "    def start(self):\n",
    "        pass\n",
    "\n",
    "\n",
    "class Bike(Vehicle):\n",
    "    def start(self):\n",
    "        print(\"Bike started\")\n",
    "\n",
    "\n",
    "def vehicle_start(vehicle):\n",
    "    vehicle.start()\n",
    "\n",
    "Vehicle1=Bike()\n",
    "vehicle_start(Vehicle1)"
   ]
  },
  {
   "cell_type": "code",
   "execution_count": null,
   "id": "71916685",
   "metadata": {},
   "outputs": [],
   "source": []
  },
  {
   "cell_type": "code",
   "execution_count": null,
   "id": "8be60e43",
   "metadata": {},
   "outputs": [],
   "source": []
  },
  {
   "cell_type": "code",
   "execution_count": null,
   "id": "a6f73cf7",
   "metadata": {},
   "outputs": [],
   "source": []
  },
  {
   "cell_type": "code",
   "execution_count": null,
   "id": "d4173d11",
   "metadata": {},
   "outputs": [],
   "source": []
  }
 ],
 "metadata": {
  "kernelspec": {
   "display_name": "Python 3",
   "language": "python",
   "name": "python3"
  },
  "language_info": {
   "codemirror_mode": {
    "name": "ipython",
    "version": 3
   },
   "file_extension": ".py",
   "mimetype": "text/x-python",
   "name": "python",
   "nbconvert_exporter": "python",
   "pygments_lexer": "ipython3",
   "version": "3.12.0"
  }
 },
 "nbformat": 4,
 "nbformat_minor": 5
}
