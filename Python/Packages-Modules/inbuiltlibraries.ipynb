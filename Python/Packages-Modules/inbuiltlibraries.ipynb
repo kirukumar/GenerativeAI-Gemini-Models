{
 "cells": [
  {
   "cell_type": "code",
   "execution_count": 1,
   "id": "e034c91a",
   "metadata": {},
   "outputs": [
    {
     "name": "stdout",
     "output_type": "stream",
     "text": [
      "array('i', [1, 2, 3, 4, 5])\n"
     ]
    }
   ],
   "source": [
    "import array\n",
    "\n",
    "arr = array.array('i', [1, 2, 3, 4, 5])\n",
    "print(arr)"
   ]
  },
  {
   "cell_type": "code",
   "execution_count": 4,
   "id": "80f49067",
   "metadata": {},
   "outputs": [
    {
     "name": "stdout",
     "output_type": "stream",
     "text": [
      "2\n",
      "banana\n"
     ]
    }
   ],
   "source": [
    "import random\n",
    "\n",
    "print(random.randint(1, 10))  # Random integer between 1 and 10\n",
    "print(random.choice(['apple', 'banana', 'cherry']))  # Random choice from a list"
   ]
  },
  {
   "cell_type": "code",
   "execution_count": 7,
   "id": "833c64b3",
   "metadata": {},
   "outputs": [
    {
     "name": "stdout",
     "output_type": "stream",
     "text": [
      "c:\\DEV\\ImportantDocs\\GenerativeAI-Gemini-Models\\Python\\Packages-Modules\n",
      "['inbuiltlibraries.ipynb', 'packages', 'packages.ipynb']\n"
     ]
    }
   ],
   "source": [
    "import os\n",
    "\n",
    "print(os.getcwd())  # Get current working directory\n",
    "print(os.listdir())  # List files in current directory\n",
    "os.makedirs('test')  # Create a new directory if it doesn't exist"
   ]
  },
  {
   "cell_type": "code",
   "execution_count": 1,
   "id": "aecf435d",
   "metadata": {},
   "outputs": [
    {
     "data": {
      "text/plain": [
       "'destination.txt'"
      ]
     },
     "execution_count": 1,
     "metadata": {},
     "output_type": "execute_result"
    }
   ],
   "source": [
    "## High Level File Operations\n",
    "\n",
    "import shutil\n",
    "shutil.copy('source.txt', 'destination.txt')  # Copy a file"
   ]
  },
  {
   "cell_type": "code",
   "execution_count": 3,
   "id": "8950af40",
   "metadata": {},
   "outputs": [
    {
     "name": "stdout",
     "output_type": "stream",
     "text": [
      "<class 'dict'>\n",
      "<class 'str'>\n",
      "{\"name\": \"Alice\", \"age\": 30, \"city\": \"New York\"}\n",
      "<class 'dict'>\n",
      "{'name': 'Alice', 'age': 30, 'city': 'New York'}\n"
     ]
    }
   ],
   "source": [
    "# Data Serialization\n",
    "\n",
    "import json\n",
    "\n",
    "data = {\"name\": \"Alice\", \"age\": 30, \"city\": \"New York\"}\n",
    "print(type(data))\n",
    "\n",
    "api_response_data = json.dumps(data)  # Convert Python object to JSON string\n",
    "print(type(api_response_data))\n",
    "print(api_response_data)\n",
    "\n",
    "parsed_data = json.loads(api_response_data);\n",
    "print(type(parsed_data))\n",
    "print(parsed_data)"
   ]
  },
  {
   "cell_type": "code",
   "execution_count": 5,
   "id": "69f2afe1",
   "metadata": {},
   "outputs": [
    {
     "name": "stdout",
     "output_type": "stream",
     "text": [
      "['Name', 'Age', 'City']\n",
      "['Alice', '30', 'New York']\n",
      "['Bob', '25', 'Los Angeles']\n"
     ]
    }
   ],
   "source": [
    "import csv\n",
    "\n",
    "with open('example.csv',mode='w',newline='') as file:\n",
    "     writer = csv.writer(file)\n",
    "     writer.writerow(['Name', 'Age', 'City'])\n",
    "     writer.writerow(['Alice', 30, 'New York'])\n",
    "     writer.writerow(['Bob', 25, 'Los Angeles'])\n",
    "\n",
    "with open('example.csv', mode='r') as file:\n",
    "     reader = csv.reader(file)\n",
    "     for row in reader:\n",
    "         print(row)"
   ]
  },
  {
   "cell_type": "code",
   "execution_count": 6,
   "id": "a7131cea",
   "metadata": {},
   "outputs": [
    {
     "name": "stdout",
     "output_type": "stream",
     "text": [
      "Current date and time: 2025-08-17 15:33:51.114431\n",
      "Yesterday's date and time: 2025-08-16 15:33:51.114431\n"
     ]
    }
   ],
   "source": [
    "from datetime import datetime,timedelta\n",
    "\n",
    "now = datetime.now()\n",
    "print(\"Current date and time:\", now)\n",
    "\n",
    "yesterday = now - timedelta(days=1)\n",
    "print(\"Yesterday's date and time:\", yesterday)\n",
    "\n"
   ]
  },
  {
   "cell_type": "code",
   "execution_count": 8,
   "id": "2f5afe83",
   "metadata": {},
   "outputs": [
    {
     "name": "stdout",
     "output_type": "stream",
     "text": [
      "Current time: 1755425088.1764488\n",
      "Wake up!\n"
     ]
    }
   ],
   "source": [
    "## time\n",
    "import time\n",
    "print(\"Current time:\", time.time())\n",
    "time.sleep(2)  # Sleep for 2 seconds\n",
    "print(\"Wake up!\")\n",
    "\n"
   ]
  },
  {
   "cell_type": "code",
   "execution_count": null,
   "id": "47eeb321",
   "metadata": {},
   "outputs": [
    {
     "name": "stdout",
     "output_type": "stream",
     "text": [
      "123\n"
     ]
    }
   ],
   "source": [
    "## Regular Expression\n",
    "import re\n",
    "pattern = r'\\d+'\n",
    "match = re.search(pattern, 'There are 123 apples 456') \n",
    "print(match.group())  # Search for digits in a string\n"
   ]
  }
 ],
 "metadata": {
  "kernelspec": {
   "display_name": "Python 3",
   "language": "python",
   "name": "python3"
  },
  "language_info": {
   "codemirror_mode": {
    "name": "ipython",
    "version": 3
   },
   "file_extension": ".py",
   "mimetype": "text/x-python",
   "name": "python",
   "nbconvert_exporter": "python",
   "pygments_lexer": "ipython3",
   "version": "3.12.0"
  }
 },
 "nbformat": 4,
 "nbformat_minor": 5
}
