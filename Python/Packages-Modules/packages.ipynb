{
 "cells": [
  {
   "cell_type": "code",
   "execution_count": 1,
   "id": "99e33ad4",
   "metadata": {},
   "outputs": [
    {
     "data": {
      "text/plain": [
       "4.0"
      ]
     },
     "execution_count": 1,
     "metadata": {},
     "output_type": "execute_result"
    }
   ],
   "source": [
    "import math\n",
    "math.sqrt(16)  # Example usage of the math module\n"
   ]
  },
  {
   "cell_type": "code",
   "execution_count": 2,
   "id": "dad00781",
   "metadata": {},
   "outputs": [
    {
     "name": "stdout",
     "output_type": "stream",
     "text": [
      "3.141592653589793\n"
     ]
    }
   ],
   "source": [
    "from math import sqrt,pi\n",
    "sqrt(16)  # Example usage of the math module\n",
    "pi_value = pi\n",
    "print(pi_value)  # Print the value of pi"
   ]
  },
  {
   "cell_type": "code",
   "execution_count": 4,
   "id": "8b7c2114",
   "metadata": {},
   "outputs": [],
   "source": [
    "import numpy as np"
   ]
  },
  {
   "cell_type": "code",
   "execution_count": 5,
   "id": "cc79057a",
   "metadata": {},
   "outputs": [
    {
     "data": {
      "text/plain": [
       "array([1, 2, 3, 4, 5])"
      ]
     },
     "execution_count": 5,
     "metadata": {},
     "output_type": "execute_result"
    }
   ],
   "source": [
    "np.array([1, 2, 3, 4, 5])"
   ]
  },
  {
   "cell_type": "code",
   "execution_count": 6,
   "id": "57512f1b",
   "metadata": {},
   "outputs": [
    {
     "data": {
      "text/plain": [
       "4.0"
      ]
     },
     "execution_count": 6,
     "metadata": {},
     "output_type": "execute_result"
    }
   ],
   "source": [
    "## importing every modules\n",
    "\n",
    "from math import *\n",
    "sqrt(16)\n"
   ]
  },
  {
   "cell_type": "code",
   "execution_count": 8,
   "id": "56e52b42",
   "metadata": {},
   "outputs": [
    {
     "name": "stdout",
     "output_type": "stream",
     "text": [
      "8\n",
      "2\n"
     ]
    }
   ],
   "source": [
    "from packages import arithmetic\n",
    "\n",
    "print(arithmetic.addition(5, 3))  # Example usage of the addition function\n",
    "print(arithmetic.subtraction(5, 3))  # Example usage of the subtraction function"
   ]
  },
  {
   "cell_type": "code",
   "execution_count": 9,
   "id": "97cbda50",
   "metadata": {},
   "outputs": [
    {
     "name": "stdout",
     "output_type": "stream",
     "text": [
      "8\n",
      "2\n"
     ]
    }
   ],
   "source": [
    "from packages.arithmetic import addition, subtraction\n",
    "\n",
    "print(addition(5, 3))\n",
    "print(subtraction(5, 3))"
   ]
  },
  {
   "cell_type": "code",
   "execution_count": 10,
   "id": "c85cf443",
   "metadata": {},
   "outputs": [
    {
     "name": "stdout",
     "output_type": "stream",
     "text": [
      "15\n"
     ]
    }
   ],
   "source": [
    "from packages.subpackages.multiply import multiply\n",
    "\n",
    "print(multiply(5, 3))\n",
    "\n"
   ]
  },
  {
   "cell_type": "code",
   "execution_count": null,
   "id": "75af5c21",
   "metadata": {},
   "outputs": [],
   "source": []
  }
 ],
 "metadata": {
  "kernelspec": {
   "display_name": "Python 3",
   "language": "python",
   "name": "python3"
  },
  "language_info": {
   "codemirror_mode": {
    "name": "ipython",
    "version": 3
   },
   "file_extension": ".py",
   "mimetype": "text/x-python",
   "name": "python",
   "nbconvert_exporter": "python",
   "pygments_lexer": "ipython3",
   "version": "3.12.0"
  }
 },
 "nbformat": 4,
 "nbformat_minor": 5
}
