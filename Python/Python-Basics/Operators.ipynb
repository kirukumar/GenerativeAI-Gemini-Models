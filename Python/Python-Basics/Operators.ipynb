{
 "cells": [
  {
   "cell_type": "code",
   "execution_count": 6,
   "id": "e4f08961",
   "metadata": {},
   "outputs": [
    {
     "name": "stdout",
     "output_type": "stream",
     "text": [
      "The sum of 14 and 5 is: 19\n",
      "The division of 14 by 5 is: 2.8\n",
      "The modulus of 14 by 5 is: 4\n",
      "The floor division of 14 by 5 is: 2\n",
      "The exponent of 14 to the power of 5 is: 537824\n"
     ]
    }
   ],
   "source": [
    "## Arithmetic Operators\n",
    "\n",
    "a=14\n",
    "b=5\n",
    "result = a + b\n",
    "print(\"The sum of\", a, \"and\", b, \"is:\", result)\n",
    "\n",
    "div_result = a / b\n",
    "print(\"The division of\", a, \"by\", b, \"is:\", div_result)\n",
    "\n",
    "modulus_result = a % b\n",
    "print(\"The modulus of\", a, \"by\", b, \"is:\", modulus_result)\n",
    "\n",
    "floor_div_result = a // b\n",
    "print(\"The floor division of\", a, \"by\", b, \"is:\", floor_div_result)\n",
    "\n",
    "exponent_result = a ** b\n",
    "print(\"The exponent of\", a, \"to the power of\", b, \"is:\", exponent_result)\n"
   ]
  },
  {
   "cell_type": "code",
   "execution_count": 8,
   "id": "f2637be8",
   "metadata": {},
   "outputs": [
    {
     "name": "stdout",
     "output_type": "stream",
     "text": [
      "Is str1 equal to str2? False\n",
      "Is str1 not equal to str2? True\n",
      "Is str1 greater than str2? False\n",
      "Is str1 less than str2? True\n",
      "Is str1 greater than or equal to str2? False\n",
      "Is str1 less than or equal to str2? True\n"
     ]
    }
   ],
   "source": [
    "# Comparision Operator\n",
    "str1=\"Hello\"\n",
    "str2=\"World\"\n",
    "\n",
    "print(\"Is str1 equal to str2?\", str1 == str2)\n",
    "print(\"Is str1 not equal to str2?\", str1 != str2)\n",
    "print(\"Is str1 greater than str2?\", str1 > str2)\n",
    "print(\"Is str1 less than str2?\", str1 < str2)\n",
    "print(\"Is str1 greater than or equal to str2?\", str1 >= str2)\n",
    "print(\"Is str1 less than or equal to str2?\", str1 <= str2)\n"
   ]
  },
  {
   "cell_type": "code",
   "execution_count": 9,
   "id": "8fc0bdb7",
   "metadata": {},
   "outputs": [
    {
     "name": "stdout",
     "output_type": "stream",
     "text": [
      "x and y: False\n",
      "x or y: True\n",
      "not x: False\n"
     ]
    }
   ],
   "source": [
    "## Logical Operators\n",
    "# And, Or, Not\n",
    "\n",
    "x = True\n",
    "y = False\n",
    "\n",
    "print(\"x and y:\", x and y)\n",
    "print(\"x or y:\", x or y)\n",
    "print(\"not x:\", not x)\n"
   ]
  },
  {
   "cell_type": "code",
   "execution_count": null,
   "id": "3d26e852",
   "metadata": {},
   "outputs": [],
   "source": []
  },
  {
   "cell_type": "code",
   "execution_count": null,
   "id": "14cd0b52",
   "metadata": {},
   "outputs": [],
   "source": []
  },
  {
   "cell_type": "code",
   "execution_count": null,
   "id": "4ff3f136",
   "metadata": {},
   "outputs": [],
   "source": []
  },
  {
   "cell_type": "code",
   "execution_count": null,
   "id": "53d56909",
   "metadata": {},
   "outputs": [],
   "source": []
  }
 ],
 "metadata": {
  "kernelspec": {
   "display_name": "Python 3",
   "language": "python",
   "name": "python3"
  },
  "language_info": {
   "codemirror_mode": {
    "name": "ipython",
    "version": 3
   },
   "file_extension": ".py",
   "mimetype": "text/x-python",
   "name": "python",
   "nbconvert_exporter": "python",
   "pygments_lexer": "ipython3",
   "version": "3.12.0"
  }
 },
 "nbformat": 4,
 "nbformat_minor": 5
}
