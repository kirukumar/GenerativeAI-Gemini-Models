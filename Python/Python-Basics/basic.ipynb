{
 "cells": [
  {
   "cell_type": "code",
   "execution_count": 1,
   "id": "88cb923f",
   "metadata": {},
   "outputs": [
    {
     "data": {
      "text/plain": [
       "'\\nWelcome to the Python Course\\n'"
      ]
     },
     "execution_count": 1,
     "metadata": {},
     "output_type": "execute_result"
    }
   ],
   "source": [
    "## Single line Command\n",
    "'''\n",
    "Welcome to the Python Course\n",
    "'''\n",
    "\n"
   ]
  },
  {
   "cell_type": "code",
   "execution_count": null,
   "id": "2e68eeb6",
   "metadata": {},
   "outputs": [
    {
     "name": "stdout",
     "output_type": "stream",
     "text": [
      "Kiran\n",
      "Kumar\n"
     ]
    }
   ],
   "source": [
    "# case Sensitive\n",
    "name=\"Kiran\"\n",
    "Name=\"Kumar\"\n",
    "\n",
    "print(name)\n",
    "print(Name)"
   ]
  },
  {
   "cell_type": "code",
   "execution_count": null,
   "id": "c552503a",
   "metadata": {},
   "outputs": [],
   "source": [
    "# Indentation\n",
    "age=20\n",
    "if age>30:\n",
    "    print(\"Adult\")\n",
    "else:\n",
    "    print(\"Not Adult\")\n"
   ]
  },
  {
   "cell_type": "code",
   "execution_count": null,
   "id": "3acbcef8",
   "metadata": {},
   "outputs": [
    {
     "name": "stdout",
     "output_type": "stream",
     "text": [
      "21\n",
      "kiran kumar\n"
     ]
    }
   ],
   "source": [
    "# Line Continuation(using a Back slash)\n",
    "total = 1+2+3+4+5+\\\n",
    "+6\n",
    "\n",
    "print(total)\n",
    "\n",
    "string = 'kiran'+\\\n",
    "' kumar'\n",
    "\n",
    "print(string)"
   ]
  },
  {
   "cell_type": "code",
   "execution_count": null,
   "id": "c5371041",
   "metadata": {},
   "outputs": [],
   "source": [
    "# Multiple Statements on a single line.\n",
    "a = 10; b = 20; c = 30\n"
   ]
  },
  {
   "cell_type": "code",
   "execution_count": 6,
   "id": "eee4f915",
   "metadata": {},
   "outputs": [],
   "source": [
    "# variable Assignment\n",
    "age=32 #During runtime.\n",
    "name=\"Kiran\"\n"
   ]
  },
  {
   "cell_type": "code",
   "execution_count": 9,
   "id": "30dd54cf",
   "metadata": {},
   "outputs": [
    {
     "name": "stdout",
     "output_type": "stream",
     "text": [
      "<class 'int'>\n",
      "<class 'str'>\n"
     ]
    }
   ],
   "source": [
    "print(type(age))\n",
    "print(type(name))"
   ]
  },
  {
   "cell_type": "code",
   "execution_count": null,
   "id": "9e52f131",
   "metadata": {},
   "outputs": [
    {
     "name": "stdout",
     "output_type": "stream",
     "text": [
      "<class 'int'>\n",
      "<class 'str'>\n"
     ]
    }
   ],
   "source": [
    "# Type Inference (Changing values during run time)\n",
    "\n",
    "variable=10\n",
    "print(type(variable))\n",
    "\n",
    "variable='string'\n",
    "print(type(variable))"
   ]
  },
  {
   "cell_type": "code",
   "execution_count": 11,
   "id": "96c9fd36",
   "metadata": {},
   "outputs": [
    {
     "name": "stdout",
     "output_type": "stream",
     "text": [
      "This is true\n",
      "End of the if block\n",
      "Outside of the if block\n"
     ]
    }
   ],
   "source": [
    "# code example of indentation.\n",
    "if True:\n",
    "    print(\"This is true\")\n",
    "    if False:\n",
    "        print(\"This is false\")\n",
    "    print(\"End of the if block\")\n",
    "print(\"Outside of the if block\")"
   ]
  }
 ],
 "metadata": {
  "kernelspec": {
   "display_name": "Python 3",
   "language": "python",
   "name": "python3"
  },
  "language_info": {
   "codemirror_mode": {
    "name": "ipython",
    "version": 3
   },
   "file_extension": ".py",
   "mimetype": "text/x-python",
   "name": "python",
   "nbconvert_exporter": "python",
   "pygments_lexer": "ipython3",
   "version": "3.12.0"
  }
 },
 "nbformat": 4,
 "nbformat_minor": 5
}
