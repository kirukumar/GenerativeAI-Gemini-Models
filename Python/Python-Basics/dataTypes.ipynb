{
 "cells": [
  {
   "cell_type": "code",
   "execution_count": 1,
   "id": "7ed1fb64",
   "metadata": {},
   "outputs": [
    {
     "name": "stdout",
     "output_type": "stream",
     "text": [
      "<class 'int'>\n",
      "<class 'str'>\n",
      "<class 'float'>\n",
      "<class 'bool'>\n",
      "<class 'bool'>\n"
     ]
    }
   ],
   "source": [
    "## integer data Type\n",
    "\n",
    "age=25\n",
    "print(type(age))\n",
    "\n",
    "## integer data type\n",
    "name='John Doe'\n",
    "print(type(name))\n",
    "\n",
    "## float data type\n",
    "pi=3.14\n",
    "print(type(pi))\n",
    "\n",
    "## boolean data type\n",
    "is_student = True\n",
    "print(type(is_student))\n",
    "\n",
    "# or\n",
    "\n",
    "is_student = bool()\n",
    "print(type(is_student))"
   ]
  },
  {
   "cell_type": "code",
   "execution_count": null,
   "id": "dcd58c32",
   "metadata": {},
   "outputs": [
    {
     "name": "stdout",
     "output_type": "stream",
     "text": [
      "KIRAN\n",
      "kiran\n",
      "John\n",
      "0\n"
     ]
    }
   ],
   "source": [
    "## inbuilt methods(There are many inbuilt methods.)\n",
    "\n",
    "str= \"Kiran\"\n",
    "print(str.upper())\n",
    "print(str.lower())\n",
    "print(str.replace(\"Kiran\", \"John\"))\n",
    "print(str.find(\"Kiran\"))"
   ]
  },
  {
   "cell_type": "code",
   "execution_count": null,
   "id": "476d4311",
   "metadata": {},
   "outputs": [],
   "source": []
  },
  {
   "cell_type": "code",
   "execution_count": null,
   "id": "b1e85c34",
   "metadata": {},
   "outputs": [],
   "source": []
  },
  {
   "cell_type": "code",
   "execution_count": null,
   "id": "f1ad2a79",
   "metadata": {},
   "outputs": [],
   "source": []
  },
  {
   "cell_type": "code",
   "execution_count": null,
   "id": "e03191e8",
   "metadata": {},
   "outputs": [],
   "source": []
  },
  {
   "cell_type": "code",
   "execution_count": null,
   "id": "5eb5e3e9",
   "metadata": {},
   "outputs": [],
   "source": []
  }
 ],
 "metadata": {
  "kernelspec": {
   "display_name": "Python 3",
   "language": "python",
   "name": "python3"
  },
  "language_info": {
   "codemirror_mode": {
    "name": "ipython",
    "version": 3
   },
   "file_extension": ".py",
   "mimetype": "text/x-python",
   "name": "python",
   "nbconvert_exporter": "python",
   "pygments_lexer": "ipython3",
   "version": "3.12.0"
  }
 },
 "nbformat": 4,
 "nbformat_minor": 5
}
