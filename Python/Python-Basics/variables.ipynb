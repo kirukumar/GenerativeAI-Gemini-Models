{
 "cells": [
  {
   "cell_type": "code",
   "execution_count": 3,
   "id": "91ad4ed9",
   "metadata": {},
   "outputs": [
    {
     "name": "stdout",
     "output_type": "stream",
     "text": [
      "age: 100\n",
      "is_student: True\n"
     ]
    }
   ],
   "source": [
    "a=100\n",
    "is_student=True\n",
    "\n",
    "print('age:',a)\n",
    "print('is_student:',is_student)"
   ]
  },
  {
   "cell_type": "code",
   "execution_count": null,
   "id": "1dc070bd",
   "metadata": {},
   "outputs": [],
   "source": [
    "# Naming Convention\n",
    "\n",
    "first_name='Kiran'\n",
    "last_name='Kumar'\n",
    "\n",
    "print('first_name:',first_name)\n",
    "print('last_name:',last_name)"
   ]
  },
  {
   "cell_type": "code",
   "execution_count": 5,
   "id": "cb76a18f",
   "metadata": {},
   "outputs": [
    {
     "name": "stdout",
     "output_type": "stream",
     "text": [
      "<class 'bool'>\n",
      "<class 'str'>\n"
     ]
    }
   ],
   "source": [
    "## understanding variable Types.\n",
    "is_student=True\n",
    "name='John Doe'\n",
    "\n",
    "print(type(is_student))  # <class 'bool'>\n",
    "print(type(name))  # <class 'str'>"
   ]
  },
  {
   "cell_type": "code",
   "execution_count": 7,
   "id": "2e093811",
   "metadata": {},
   "outputs": [
    {
     "name": "stdout",
     "output_type": "stream",
     "text": [
      "<class 'str'> 25\n",
      "<class 'float'> 25.0\n"
     ]
    }
   ],
   "source": [
    "# Type Conversion\n",
    "age=25\n",
    "\n",
    "age_string=str(age);\n",
    "print(type(age_string),age_string) \n",
    "\n",
    "age_float=float(age_string) \n",
    "print(type(age_float),age_float)\n"
   ]
  },
  {
   "cell_type": "code",
   "execution_count": null,
   "id": "120fb85f",
   "metadata": {},
   "outputs": [
    {
     "name": "stdout",
     "output_type": "stream",
     "text": [
      "You entered: 12 <class 'str'>\n",
      "Your age is: 12\n"
     ]
    }
   ],
   "source": [
    "## input Function: it is used to take input from the user.\n",
    "\n",
    "age=input(\"Enter your age: \")\n",
    "print(\"You entered:\", age,type(age))\n",
    "age=int(age)\n",
    "print(\"Your age is:\", age)"
   ]
  },
  {
   "cell_type": "code",
   "execution_count": 9,
   "id": "b0f710f3",
   "metadata": {},
   "outputs": [
    {
     "name": "stdout",
     "output_type": "stream",
     "text": [
      "The sum is: 8\n",
      "The difference is: 0\n",
      "The multiplication is: 16\n",
      "The division is: 1.0\n"
     ]
    }
   ],
   "source": [
    "## Simple Calculator\n",
    "\n",
    "num1 = int(input(\"Enter first number: \"))\n",
    "num2 = int(input(\"Enter second number: \"))\n",
    "\n",
    "sum = num1 + num2\n",
    "print(\"The sum is:\", sum)\n",
    "difference = num1 - num2\n",
    "print(\"The difference is:\", difference)\n",
    "multiplication = num1 * num2\n",
    "print(\"The multiplication is:\", multiplication)\n",
    "division = num1 / num2\n",
    "print(\"The division is:\", division)\n"
   ]
  },
  {
   "cell_type": "code",
   "execution_count": null,
   "id": "110340df",
   "metadata": {},
   "outputs": [],
   "source": []
  },
  {
   "cell_type": "code",
   "execution_count": null,
   "id": "ccb88e83",
   "metadata": {},
   "outputs": [],
   "source": []
  }
 ],
 "metadata": {
  "kernelspec": {
   "display_name": "Python 3",
   "language": "python",
   "name": "python3"
  },
  "language_info": {
   "codemirror_mode": {
    "name": "ipython",
    "version": 3
   },
   "file_extension": ".py",
   "mimetype": "text/x-python",
   "name": "python",
   "nbconvert_exporter": "python",
   "pygments_lexer": "ipython3",
   "version": "3.12.0"
  }
 },
 "nbformat": 4,
 "nbformat_minor": 5
}
